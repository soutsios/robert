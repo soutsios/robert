{
 "cells": [
  {
   "cell_type": "markdown",
   "metadata": {},
   "source": [
    " ---- Stamatis Outsios ----"
   ]
  },
  {
   "cell_type": "markdown",
   "metadata": {},
   "source": [
    "# Google QUEST Q&A Labeling"
   ]
  },
  {
   "cell_type": "markdown",
   "metadata": {},
   "source": [
    "# Improving automated understanding of complex question answer content"
   ]
  },
  {
   "cell_type": "markdown",
   "metadata": {},
   "source": [
    "## Experiments with Recurrence over BERT"
   ]
  },
  {
   "cell_type": "code",
   "execution_count": 3,
   "metadata": {},
   "outputs": [],
   "source": [
    "import pandas as pd\n",
    "import numpy as np\n",
    "#from numba import cuda\n",
    "from nltk.corpus import stopwords\n",
    "#from bs4 import BeautifulSoup\n",
    "from sklearn.model_selection import train_test_split\n",
    "from sklearn.model_selection import GroupKFold\n",
    "#from ml_stratifiers import MultilabelStratifiedShuffleSplit, MultilabelStratifiedKFold\n",
    "import matplotlib.pyplot as plt\n",
    "from tqdm.notebook import tqdm\n",
    "import tensorflow_hub as hub\n",
    "import tensorflow as tf\n",
    "from bert import bert_tokenization\n",
    "import tensorflow.keras.backend as K\n",
    "from tensorflow.keras.callbacks import ModelCheckpoint, EarlyStopping, Callback, ReduceLROnPlateau\n",
    "from tensorflow.keras.utils import plot_model\n",
    "from IPython.display import Image\n",
    "import os, gc, datetime, pickle, math, re, html, multiprocessing\n",
    "from scipy.stats import spearmanr\n",
    "from math import floor, ceil\n",
    "from gensim.summarization import summarize"
   ]
  },
  {
   "cell_type": "code",
   "execution_count": 4,
   "metadata": {},
   "outputs": [],
   "source": [
    "def _get_masks(tokens, max_seq_length):\n",
    "    \"\"\"Mask for padding\"\"\"\n",
    "    if len(tokens)>max_seq_length:\n",
    "        raise IndexError(\"Token length more than max seq length!\")\n",
    "    return [1]*len(tokens) + [0] * (max_seq_length - len(tokens))\n",
    "\n",
    "\n",
    "def _get_segments(tokens, max_seq_length):\n",
    "    #stoken = [\"[CLS]\"] + title + question + [\"[SEP]\"] + answer + [\"[SEP]\"]\n",
    "    \n",
    "    \"\"\"Segments: 0 for the first sequence, 1 for the second\"\"\"\n",
    "    if len(tokens)>max_seq_length:\n",
    "        raise IndexError(\"Token length more than max seq length!\")\n",
    "    segments = []\n",
    "    first_sep = False\n",
    "    current_segment_id = 0\n",
    "    for token in tokens:\n",
    "        segments.append(current_segment_id)\n",
    "        if token == \"[SEP]\":\n",
    "            if first_sep:\n",
    "                first_sep = False \n",
    "            else:\n",
    "                current_segment_id = 1\n",
    "    return segments + [0] * (max_seq_length - len(tokens))\n",
    "\n",
    "def _get_ids(tokens, tokenizer, max_seq_length):\n",
    "    \"\"\"Token ids from Tokenizer vocab\"\"\"\n",
    "    token_ids = tokenizer.convert_tokens_to_ids(tokens)\n",
    "    input_ids = token_ids + [0] * (max_seq_length-len(token_ids))\n",
    "    return input_ids\n",
    "\n",
    "\n",
    "def _trim_input(tokens_a, tokens_b, max_length,i):\n",
    "    \"\"\"Truncates a sequence pair in place to the maximum length.\"\"\"\n",
    "    # This is a simple heuristic which will always truncate the longer sequence\n",
    "    # one token at a time. This makes more sense than truncating an equal percent\n",
    "    # of tokens from each, since if one sequence is very short then each token\n",
    "    # that's truncated likely contains more information than a longer sequence.\n",
    "    k=0\n",
    "    li=-1\n",
    "    while True:\n",
    "        total_length = len(tokens_a) + len(tokens_b)\n",
    "        if total_length <= max_length:\n",
    "            break\n",
    "        if len(tokens_a) > len(tokens_b):\n",
    "            tokens_a.pop()\n",
    "        else:\n",
    "            tokens_b.pop()\n",
    "        k=1\n",
    "        li=i\n",
    "    return k,li\n",
    "\n",
    "\n",
    "def _convert_to_bert_inputs(title,  question, answer, tokenizer, max_sequence_length, stoken):\n",
    "    \"\"\"Converts tokenized input to ids, masks and segments for BERT\"\"\"\n",
    "    \n",
    "    if stoken=='q':\n",
    "        stoken = [\"[CLS]\"] + question + [\"[SEP]\"] #for question target prediction\n",
    "    if stoken=='a':\n",
    "        #stoken = [\"[CLS]\"] + question + [\"[SEP]\"] + answer + [\"[SEP]\"] #for answer target prediction\n",
    "        stoken = [\"[CLS]\"] + answer + [\"[SEP]\"]\n",
    "        \n",
    "    input_ids = _get_ids(stoken, tokenizer, max_sequence_length)\n",
    "    input_masks = _get_masks(stoken, max_sequence_length)\n",
    "    input_segments = _get_segments(stoken, max_sequence_length)\n",
    "\n",
    "    return [input_ids, input_masks, input_segments]\n",
    "\n",
    "def compute_input_arays(df, columns, tokenizer, max_sequence_length, part):\n",
    "    input_ids, input_masks, input_segments = [], [], []\n",
    "    mm = 0\n",
    "    large=[]\n",
    "    for i, instance in tqdm(df[columns].iterrows()):\n",
    "        t, q, a, c = instance.question_title, instance.question_body, instance.answer, instance.category\n",
    "        \n",
    "        t = tokenizer.tokenize(t)\n",
    "        q = tokenizer.tokenize(q)\n",
    "        a = tokenizer.tokenize(a)\n",
    "        c = tokenizer.tokenize(c)\n",
    "        \n",
    "        if part=='q':\n",
    "            q = t+q\n",
    "            a = [] #for question only input\n",
    "            #t, q, a, maxes = _trim_input(t, q, a, max_sequence_length)\n",
    "            maxes, li = _trim_input(q, a, max_sequence_length-2, i)\n",
    "        if part=='a':\n",
    "            q = []\n",
    "            #q=t+q\n",
    "            #t, q, a, maxes = _trim_input(t, q, a, max_sequence_length)\n",
    "            maxes, li = _trim_input(q, a, max_sequence_length-2, i)\n",
    "            \n",
    "        ids, masks, segments = _convert_to_bert_inputs(t, q, a, tokenizer, max_sequence_length, stoken=part)\n",
    "        input_ids.append(ids)\n",
    "        input_masks.append(masks)\n",
    "        input_segments.append(segments)\n",
    "        try:\n",
    "            mm += maxes\n",
    "        except:\n",
    "            pass\n",
    "        if li>-1:\n",
    "            large.append(li)\n",
    "    print('#>512:', mm)\n",
    "    print('#>512 list length:', len(large))\n",
    "    print('#>512 list:', large)\n",
    "    return [np.asarray(input_ids, dtype=np.int32), \n",
    "            np.asarray(input_masks, dtype=np.int32), \n",
    "            np.asarray(input_segments, dtype=np.int32)]\n",
    "\n",
    "def compute_output_arrays(df, columns):\n",
    "    return np.asarray(df[columns])\n",
    "\n",
    "def compute_output_arrays_qa(df):\n",
    "    return np.asarray(df.iloc[:,:21]), np.asarray(df.iloc[:,21:])"
   ]
  },
  {
   "cell_type": "code",
   "execution_count": 5,
   "metadata": {},
   "outputs": [],
   "source": [
    "def compute_spearmanr(trues, preds):\n",
    "    rhos = []\n",
    "    for col_trues, col_pred in zip(trues.T, preds.T):\n",
    "        rhos.append(\n",
    "            spearmanr(col_trues, col_pred + np.random.normal(0, 1e-7, col_pred.shape[0])).correlation)\n",
    "            #spearmanr(col_trues, col_pred).correlation)\n",
    "    return np.mean(rhos)"
   ]
  },
  {
   "cell_type": "code",
   "execution_count": 6,
   "metadata": {},
   "outputs": [],
   "source": [
    "def sploss(y_pred, y_true):\n",
    "    return spearmanr(y_true, y_pred)"
   ]
  },
  {
   "cell_type": "code",
   "execution_count": 7,
   "metadata": {},
   "outputs": [],
   "source": [
    "def correlation(x, y):    \n",
    "    mx = tf.math.reduce_mean(x)\n",
    "    my = tf.math.reduce_mean(y)\n",
    "    xm, ym = x-mx, y-my\n",
    "    r_num = tf.math.reduce_mean(tf.multiply(xm,ym))        \n",
    "    r_den = tf.math.reduce_std(xm) * tf.math.reduce_std(ym)\n",
    "    return r_num / r_den"
   ]
  },
  {
   "cell_type": "code",
   "execution_count": 8,
   "metadata": {},
   "outputs": [],
   "source": [
    "class SpearmanRhoCallback(Callback):\n",
    "    def __init__(self, training_data, validation_data, patience, model_name):\n",
    "        self.x = training_data[0]\n",
    "        self.y = training_data[1]\n",
    "        self.x_val = validation_data[0]\n",
    "        self.y_val = validation_data[1]\n",
    "        \n",
    "        self.patience = patience\n",
    "        self.value = -1\n",
    "        self.bad_epochs = 0\n",
    "        self.model_name = model_name\n",
    "\n",
    "    def on_train_begin(self, logs={}):\n",
    "        return\n",
    "\n",
    "    def on_train_end(self, logs={}):\n",
    "        return\n",
    "\n",
    "    def on_epoch_begin(self, epoch, logs={}):\n",
    "        return\n",
    "\n",
    "    def on_epoch_end(self, epoch, logs={}):\n",
    "        y_pred_val = self.model.predict(self.x_val)\n",
    "        rho_val = compute_spearmanr(self.y_val, y_pred_val)\n",
    "        if rho_val >= self.value:\n",
    "            self.value = rho_val\n",
    "            if self.fold is not None:\n",
    "                self.model.save_weights(f'/training_test/bert-base-{fold}-{epoch}.h5py')\n",
    "                print('\\nSaving model..')\n",
    "        else:\n",
    "            self.bad_epochs += 1\n",
    "        if self.bad_epochs >= self.patience:\n",
    "            print(\"Epoch %05d: early stopping Threshold\" % epoch)\n",
    "            self.model.stop_training = True\n",
    "\n",
    "        print('\\rval_spearman-rho: %s' % (str(round(rho_val, 4))), end=100*' '+'\\n')\n",
    "        return rho_val\n",
    "\n",
    "    def on_batch_begin(self, batch, logs={}):\n",
    "        return\n",
    "\n",
    "    def on_batch_end(self, batch, logs={}):\n",
    "        return"
   ]
  },
  {
   "cell_type": "code",
   "execution_count": 9,
   "metadata": {},
   "outputs": [],
   "source": [
    "rho = []\n",
    "class CustomCallback(tf.keras.callbacks.Callback):\n",
    "    \n",
    "    def __init__(self, valid_inputs, valid_outputs, patience, model_name, pred, batch_size=16, fold=None):\n",
    "        self.valid_inputs = valid_inputs\n",
    "        self.valid_outputs = valid_outputs\n",
    "        self.batch_size = batch_size\n",
    "        self.pred = pred\n",
    "        \n",
    "        self.patience = patience\n",
    "        self.value = -1\n",
    "        self.bad_epochs = 0\n",
    "        self.fold = fold\n",
    "        self.model_name = model_name\n",
    "       \n",
    "    def on_train_begin(self, logs={}):\n",
    "        self.valid_predictions = []\n",
    "        return\n",
    "        \n",
    "    def on_epoch_end(self, epoch, logs={}):\n",
    "        \n",
    "        if self.pred=='bert':\n",
    "            rho_val = compute_spearmanr(\n",
    "            self.valid_outputs, self.model.predict(self.valid_inputs, batch_size=self.batch_size))\n",
    "        \n",
    "        if self.pred=='lstm':\n",
    "            rho_val = compute_spearmanr(\n",
    "            self.valid_outputs, self.model.predict(val_generator(self.valid_inputs, self.valid_outputs),\n",
    "                                                   steps=76, callbacks=None, max_queue_size=10,\n",
    "                                                   workers=1, use_multiprocessing=False, verbose=0))\n",
    "\n",
    "        if rho_val >= self.value:\n",
    "            self.value = rho_val\n",
    "            if self.fold is not None:\n",
    "                print('\\nSaving model..',self.model_name)\n",
    "                self.model.save_weights(self.model_name)\n",
    "        else:\n",
    "            self.bad_epochs += 1\n",
    "        if self.bad_epochs >= self.patience:\n",
    "            print(\"Epoch %05d: early stopping Threshold\" % epoch)\n",
    "            self.model.stop_training = True\n",
    "        rho.append(\"%.3f\" % rho_val)\n",
    "        print(\"\\nvalidation rho: %.3f\" % rho_val)\n",
    "        return"
   ]
  },
  {
   "cell_type": "code",
   "execution_count": 10,
   "metadata": {},
   "outputs": [],
   "source": [
    "def my_func(arg):\n",
    "    arg = tf.convert_to_tensor(arg, dtype=tf.float32)\n",
    "    return tf.matmul(arg, arg) + arg"
   ]
  },
  {
   "cell_type": "code",
   "execution_count": 11,
   "metadata": {},
   "outputs": [],
   "source": [
    "def bert_model(units=30, dropout=0.3):\n",
    "    tf.random.set_seed(1234) #tf2\n",
    "        \n",
    "    input_word_ids = tf.keras.layers.Input(\n",
    "        (MAX_SEQUENCE_LENGTH,), dtype=tf.int32, name='input_word_ids')\n",
    "    input_masks = tf.keras.layers.Input(\n",
    "        (MAX_SEQUENCE_LENGTH,), dtype=tf.int32, name='input_masks')\n",
    "    input_segments = tf.keras.layers.Input(\n",
    "        (MAX_SEQUENCE_LENGTH,), dtype=tf.int32, name='input_segments')\n",
    "    \n",
    "    bert_inputs = [input_word_ids, input_masks, input_segments]\n",
    "    \n",
    "\n",
    "    bert_layer = hub.KerasLayer(BERT_PATH, trainable=True)\n",
    "    pooled_output, sequence_output = bert_layer(bert_inputs)\n",
    "    \n",
    "    x = tf.keras.layers.GlobalAveragePooling1D()(sequence_output)\n",
    "        \n",
    "    out = tf.keras.layers.Dense(units, activation='sigmoid', name='dense_output')(x)\n",
    "    model = tf.keras.models.Model(inputs=bert_inputs, outputs=out)\n",
    "    model.compile(loss='binary_crossentropy', optimizer=tf.keras.optimizers.Adam(learning_rate=3e-5))\n",
    "    return model"
   ]
  },
  {
   "cell_type": "code",
   "execution_count": 12,
   "metadata": {},
   "outputs": [],
   "source": [
    "# Params for bert model and tokenization\n",
    "BERT_PATH = \"https://tfhub.dev/tensorflow/bert_en_uncased_L-12_H-768_A-12/1\""
   ]
  },
  {
   "cell_type": "code",
   "execution_count": 13,
   "metadata": {},
   "outputs": [],
   "source": [
    "def create_tokenizer(bert_path):\n",
    "    bert_layer = hub.KerasLayer(bert_path, trainable=True)\n",
    "    bert_layer.resolved_object.do_lower_case.numpy()\n",
    "    vocab_file = bert_layer.resolved_object.vocab_file.asset_path.numpy()\n",
    "    do_lower_case = bert_layer.resolved_object.do_lower_case.numpy()\n",
    "    tokenizer = bert_tokenization.FullTokenizer(vocab_file, do_lower_case)\n",
    "    return tokenizer"
   ]
  },
  {
   "cell_type": "code",
   "execution_count": 14,
   "metadata": {},
   "outputs": [],
   "source": [
    "tokenizer = create_tokenizer(BERT_PATH)"
   ]
  },
  {
   "cell_type": "code",
   "execution_count": 15,
   "metadata": {},
   "outputs": [
    {
     "data": {
      "text/plain": [
       "['hello', ',', 'bert', '-', 'world', '!']"
      ]
     },
     "execution_count": 15,
     "metadata": {},
     "output_type": "execute_result"
    }
   ],
   "source": [
    "tokenizer.tokenize('Hello, BERT-World!')"
   ]
  },
  {
   "cell_type": "code",
   "execution_count": 16,
   "metadata": {},
   "outputs": [],
   "source": [
    "MAX_SEQUENCE_LENGTH = 512"
   ]
  },
  {
   "cell_type": "code",
   "execution_count": 17,
   "metadata": {
    "scrolled": true
   },
   "outputs": [
    {
     "data": {
      "image/png": "[encoded data removed]",
      "text/plain": [
       "<IPython.core.display.Image object>"
      ]
     },
     "execution_count": 17,
     "metadata": {},
     "output_type": "execute_result"
    }
   ],
   "source": [
    "model = bert_model()\n",
    "plot_model(model, to_file='model.png', show_shapes=True)\n",
    "Image('model.png')"
   ]
  },
  {
   "cell_type": "code",
   "execution_count": 18,
   "metadata": {},
   "outputs": [],
   "source": [
    "PATH ='./'"
   ]
  },
  {
   "cell_type": "code",
   "execution_count": 19,
   "metadata": {},
   "outputs": [
    {
     "name": "stdout",
     "output_type": "stream",
     "text": [
      "train shape = (6079, 41)\n",
      "test shape = (476, 11)\n",
      "sub shape = (476, 31)\n"
     ]
    }
   ],
   "source": [
    "df_train = pd.read_csv(PATH+'train.csv')\n",
    "df_test = pd.read_csv(PATH+'test.csv')\n",
    "df_sub = pd.read_csv(PATH+'sample_submission.csv')\n",
    "print('train shape =', df_train.shape)\n",
    "print('test shape =', df_test.shape)\n",
    "print('sub shape =', df_sub.shape)"
   ]
  },
  {
   "cell_type": "code",
   "execution_count": 20,
   "metadata": {},
   "outputs": [],
   "source": [
    "df_train, df_hold = train_test_split(df_train, test_size=0.1, random_state=42)"
   ]
  },
  {
   "cell_type": "code",
   "execution_count": 21,
   "metadata": {},
   "outputs": [
    {
     "name": "stdout",
     "output_type": "stream",
     "text": [
      "\n",
      "output categories:\n",
      "\t 30 ['question_asker_intent_understanding', 'question_body_critical', 'question_conversational', 'question_expect_short_answer', 'question_fact_seeking', 'question_has_commonly_accepted_answer', 'question_interestingness_others', 'question_interestingness_self', 'question_multi_intent', 'question_not_really_a_question', 'question_opinion_seeking', 'question_type_choice', 'question_type_compare', 'question_type_consequence', 'question_type_definition', 'question_type_entity', 'question_type_instructions', 'question_type_procedure', 'question_type_reason_explanation', 'question_type_spelling', 'question_well_written', 'answer_helpful', 'answer_level_of_information', 'answer_plausible', 'answer_relevance', 'answer_satisfaction', 'answer_type_instructions', 'answer_type_procedure', 'answer_type_reason_explanation', 'answer_well_written']\n",
      "\n",
      "input categories:\n",
      "\t 4 ['question_title', 'question_body', 'answer', 'category']\n"
     ]
    }
   ],
   "source": [
    "output_categories = list(df_train.columns[11:])\n",
    "input_categories = list(df_train.columns[[1,2,5,9]])\n",
    "print('\\noutput categories:\\n\\t', len(output_categories), output_categories)\n",
    "print('\\ninput categories:\\n\\t', len(input_categories), input_categories)"
   ]
  },
  {
   "cell_type": "code",
   "execution_count": 22,
   "metadata": {},
   "outputs": [
    {
     "data": {
      "text/plain": [
       "30"
      ]
     },
     "execution_count": 22,
     "metadata": {},
     "output_type": "execute_result"
    }
   ],
   "source": [
    "len(output_categories)"
   ]
  },
  {
   "cell_type": "code",
   "execution_count": 23,
   "metadata": {},
   "outputs": [
    {
     "data": {
      "text/plain": [
       "TECHNOLOGY       2195\n",
       "STACKOVERFLOW    1139\n",
       "CULTURE           862\n",
       "LIFE_ARTS         641\n",
       "SCIENCE           634\n",
       "Name: category, dtype: int64"
      ]
     },
     "execution_count": 23,
     "metadata": {},
     "output_type": "execute_result"
    }
   ],
   "source": [
    "df_train['category'].value_counts()"
   ]
  },
  {
   "cell_type": "code",
   "execution_count": 24,
   "metadata": {},
   "outputs": [
    {
     "data": {
      "text/plain": [
       "stackoverflow.com                1139\n",
       "english.stackexchange.com         206\n",
       "superuser.com                     204\n",
       "electronics.stackexchange.com     197\n",
       "serverfault.com                   187\n",
       "math.stackexchange.com            165\n",
       "physics.stackexchange.com         143\n",
       "askubuntu.com                     123\n",
       "tex.stackexchange.com             116\n",
       "rpg.stackexchange.com             113\n",
       "programmers.stackexchange.com     110\n",
       "gaming.stackexchange.com           99\n",
       "apple.stackexchange.com            95\n",
       "ux.stackexchange.com               95\n",
       "academia.stackexchange.com         93\n",
       "unix.stackexchange.com             92\n",
       "photo.stackexchange.com            92\n",
       "drupal.stackexchange.com           90\n",
       "scifi.stackexchange.com            87\n",
       "diy.stackexchange.com              84\n",
       "Name: host, dtype: int64"
      ]
     },
     "execution_count": 24,
     "metadata": {},
     "output_type": "execute_result"
    }
   ],
   "source": [
    "df_train['host'].value_counts()[:20]"
   ]
  },
  {
   "cell_type": "code",
   "execution_count": 25,
   "metadata": {},
   "outputs": [
    {
     "data": {
      "text/plain": [
       "Index(['qa_id', 'question_title', 'question_body', 'question_user_name',\n",
       "       'question_user_page', 'answer', 'answer_user_name', 'answer_user_page',\n",
       "       'url', 'category', 'host', 'question_asker_intent_understanding',\n",
       "       'question_body_critical', 'question_conversational',\n",
       "       'question_expect_short_answer', 'question_fact_seeking',\n",
       "       'question_has_commonly_accepted_answer',\n",
       "       'question_interestingness_others', 'question_interestingness_self',\n",
       "       'question_multi_intent', 'question_not_really_a_question',\n",
       "       'question_opinion_seeking', 'question_type_choice',\n",
       "       'question_type_compare', 'question_type_consequence',\n",
       "       'question_type_definition', 'question_type_entity',\n",
       "       'question_type_instructions', 'question_type_procedure',\n",
       "       'question_type_reason_explanation', 'question_type_spelling',\n",
       "       'question_well_written', 'answer_helpful',\n",
       "       'answer_level_of_information', 'answer_plausible', 'answer_relevance',\n",
       "       'answer_satisfaction', 'answer_type_instructions',\n",
       "       'answer_type_procedure', 'answer_type_reason_explanation',\n",
       "       'answer_well_written'],\n",
       "      dtype='object')"
      ]
     },
     "execution_count": 25,
     "metadata": {},
     "output_type": "execute_result"
    }
   ],
   "source": [
    "df_train.columns"
   ]
  },
  {
   "cell_type": "code",
   "execution_count": 26,
   "metadata": {},
   "outputs": [
    {
     "data": {
      "text/plain": [
       "Index(['qa_id', 'question_title', 'question_body', 'question_user_name',\n",
       "       'question_user_page', 'answer', 'answer_user_name', 'answer_user_page',\n",
       "       'url', 'category', 'host'],\n",
       "      dtype='object')"
      ]
     },
     "execution_count": 26,
     "metadata": {},
     "output_type": "execute_result"
    }
   ],
   "source": [
    "df_test.columns"
   ]
  },
  {
   "cell_type": "code",
   "execution_count": 27,
   "metadata": {},
   "outputs": [
    {
     "data": {
      "text/plain": [
       "((5471, 41), (608, 41), (476, 11))"
      ]
     },
     "execution_count": 27,
     "metadata": {},
     "output_type": "execute_result"
    }
   ],
   "source": [
    "df_train.shape, df_hold.shape, df_test.shape"
   ]
  },
  {
   "cell_type": "code",
   "execution_count": 28,
   "metadata": {},
   "outputs": [],
   "source": [
    "pd.options.display.max_colwidth = 50"
   ]
  },
  {
   "cell_type": "code",
   "execution_count": 29,
   "metadata": {},
   "outputs": [
    {
     "data": {
      "text/html": [
       "<div>\n",
       "<style scoped>\n",
       "    .dataframe tbody tr th:only-of-type {\n",
       "        vertical-align: middle;\n",
       "    }\n",
       "\n",
       "    .dataframe tbody tr th {\n",
       "        vertical-align: top;\n",
       "    }\n",
       "\n",
       "    .dataframe thead th {\n",
       "        text-align: right;\n",
       "    }\n",
       "</style>\n",
       "<table border=\"1\" class=\"dataframe\">\n",
       "  <thead>\n",
       "    <tr style=\"text-align: right;\">\n",
       "      <th></th>\n",
       "      <th>qa_id</th>\n",
       "      <th>question_title</th>\n",
       "      <th>question_body</th>\n",
       "      <th>question_user_name</th>\n",
       "      <th>question_user_page</th>\n",
       "      <th>answer</th>\n",
       "      <th>answer_user_name</th>\n",
       "      <th>answer_user_page</th>\n",
       "      <th>url</th>\n",
       "      <th>category</th>\n",
       "      <th>...</th>\n",
       "      <th>question_well_written</th>\n",
       "      <th>answer_helpful</th>\n",
       "      <th>answer_level_of_information</th>\n",
       "      <th>answer_plausible</th>\n",
       "      <th>answer_relevance</th>\n",
       "      <th>answer_satisfaction</th>\n",
       "      <th>answer_type_instructions</th>\n",
       "      <th>answer_type_procedure</th>\n",
       "      <th>answer_type_reason_explanation</th>\n",
       "      <th>answer_well_written</th>\n",
       "    </tr>\n",
       "  </thead>\n",
       "  <tbody>\n",
       "    <tr>\n",
       "      <th>2313</th>\n",
       "      <td>3690</td>\n",
       "      <td>Quantity based discount for single product in ...</td>\n",
       "      <td>I'm using latest build of Expresso Store, 2.3....</td>\n",
       "      <td>neekster</td>\n",
       "      <td>https://expressionengine.stackexchange.com/use...</td>\n",
       "      <td>We've just had the bulk discount configured to...</td>\n",
       "      <td>Jos Medinger</td>\n",
       "      <td>https://expressionengine.stackexchange.com/use...</td>\n",
       "      <td>http://expressionengine.stackexchange.com/ques...</td>\n",
       "      <td>TECHNOLOGY</td>\n",
       "      <td>...</td>\n",
       "      <td>0.777778</td>\n",
       "      <td>0.888889</td>\n",
       "      <td>0.666667</td>\n",
       "      <td>1.0</td>\n",
       "      <td>1.000000</td>\n",
       "      <td>0.800000</td>\n",
       "      <td>0.333333</td>\n",
       "      <td>1.000000</td>\n",
       "      <td>0.666667</td>\n",
       "      <td>0.888889</td>\n",
       "    </tr>\n",
       "    <tr>\n",
       "      <th>4222</th>\n",
       "      <td>6735</td>\n",
       "      <td>migrating a document library from sharepoint 2...</td>\n",
       "      <td>I have to migrate a document library from shar...</td>\n",
       "      <td>Rajesh Singh</td>\n",
       "      <td>https://sharepoint.stackexchange.com/users/29819</td>\n",
       "      <td>Their are 3 ways to get this done.\\n\\n\\nExport...</td>\n",
       "      <td>Waqas Sarwar MVP</td>\n",
       "      <td>https://sharepoint.stackexchange.com/users/21563</td>\n",
       "      <td>http://sharepoint.stackexchange.com/questions/...</td>\n",
       "      <td>TECHNOLOGY</td>\n",
       "      <td>...</td>\n",
       "      <td>1.000000</td>\n",
       "      <td>1.000000</td>\n",
       "      <td>1.000000</td>\n",
       "      <td>1.0</td>\n",
       "      <td>1.000000</td>\n",
       "      <td>0.900000</td>\n",
       "      <td>0.666667</td>\n",
       "      <td>0.333333</td>\n",
       "      <td>0.333333</td>\n",
       "      <td>1.000000</td>\n",
       "    </tr>\n",
       "    <tr>\n",
       "      <th>5346</th>\n",
       "      <td>8488</td>\n",
       "      <td>Do Not Track header</td>\n",
       "      <td>Does Stack Overflow honor the Do not track hea...</td>\n",
       "      <td>user155454</td>\n",
       "      <td>https://meta.stackexchange.com/users/155454</td>\n",
       "      <td>We do not do anything special for the proposed...</td>\n",
       "      <td>waffles</td>\n",
       "      <td>https://meta.stackexchange.com/users/17174</td>\n",
       "      <td>http://meta.stackexchange.com/questions/109726...</td>\n",
       "      <td>TECHNOLOGY</td>\n",
       "      <td>...</td>\n",
       "      <td>0.333333</td>\n",
       "      <td>1.000000</td>\n",
       "      <td>0.666667</td>\n",
       "      <td>1.0</td>\n",
       "      <td>1.000000</td>\n",
       "      <td>1.000000</td>\n",
       "      <td>0.000000</td>\n",
       "      <td>0.000000</td>\n",
       "      <td>1.000000</td>\n",
       "      <td>1.000000</td>\n",
       "    </tr>\n",
       "    <tr>\n",
       "      <th>227</th>\n",
       "      <td>364</td>\n",
       "      <td>Change Product Quantity Without Edit on Magento</td>\n",
       "      <td>I have a question here, how to change product ...</td>\n",
       "      <td>Reggie Trichandra P</td>\n",
       "      <td>https://magento.stackexchange.com/users/23144</td>\n",
       "      <td>There are third party modules for that.\\n\\nTak...</td>\n",
       "      <td>Jeroen</td>\n",
       "      <td>https://magento.stackexchange.com/users/3156</td>\n",
       "      <td>http://magento.stackexchange.com/questions/597...</td>\n",
       "      <td>TECHNOLOGY</td>\n",
       "      <td>...</td>\n",
       "      <td>0.777778</td>\n",
       "      <td>0.777778</td>\n",
       "      <td>0.444444</td>\n",
       "      <td>1.0</td>\n",
       "      <td>0.888889</td>\n",
       "      <td>0.666667</td>\n",
       "      <td>1.000000</td>\n",
       "      <td>0.000000</td>\n",
       "      <td>0.000000</td>\n",
       "      <td>0.888889</td>\n",
       "    </tr>\n",
       "    <tr>\n",
       "      <th>3830</th>\n",
       "      <td>6094</td>\n",
       "      <td>Using \\item within \\newcommand</td>\n",
       "      <td>I tried defining a new command \\Quest as follo...</td>\n",
       "      <td>Grandfather</td>\n",
       "      <td>https://tex.stackexchange.com/users/27625</td>\n",
       "      <td>Something's wrong--perhaps a missing \\item\\n\\n...</td>\n",
       "      <td>David Carlisle</td>\n",
       "      <td>https://tex.stackexchange.com/users/1090</td>\n",
       "      <td>http://tex.stackexchange.com/questions/103200/...</td>\n",
       "      <td>TECHNOLOGY</td>\n",
       "      <td>...</td>\n",
       "      <td>0.333333</td>\n",
       "      <td>1.000000</td>\n",
       "      <td>0.666667</td>\n",
       "      <td>1.0</td>\n",
       "      <td>1.000000</td>\n",
       "      <td>0.900000</td>\n",
       "      <td>0.500000</td>\n",
       "      <td>0.000000</td>\n",
       "      <td>0.500000</td>\n",
       "      <td>0.833333</td>\n",
       "    </tr>\n",
       "  </tbody>\n",
       "</table>\n",
       "<p>5 rows × 41 columns</p>\n",
       "</div>"
      ],
      "text/plain": [
       "      qa_id                                     question_title  \\\n",
       "2313   3690  Quantity based discount for single product in ...   \n",
       "4222   6735  migrating a document library from sharepoint 2...   \n",
       "5346   8488                                Do Not Track header   \n",
       "227     364    Change Product Quantity Without Edit on Magento   \n",
       "3830   6094                     Using \\item within \\newcommand   \n",
       "\n",
       "                                          question_body   question_user_name  \\\n",
       "2313  I'm using latest build of Expresso Store, 2.3....             neekster   \n",
       "4222  I have to migrate a document library from shar...         Rajesh Singh   \n",
       "5346  Does Stack Overflow honor the Do not track hea...           user155454   \n",
       "227   I have a question here, how to change product ...  Reggie Trichandra P   \n",
       "3830  I tried defining a new command \\Quest as follo...          Grandfather   \n",
       "\n",
       "                                     question_user_page  \\\n",
       "2313  https://expressionengine.stackexchange.com/use...   \n",
       "4222   https://sharepoint.stackexchange.com/users/29819   \n",
       "5346        https://meta.stackexchange.com/users/155454   \n",
       "227       https://magento.stackexchange.com/users/23144   \n",
       "3830          https://tex.stackexchange.com/users/27625   \n",
       "\n",
       "                                                 answer  answer_user_name  \\\n",
       "2313  We've just had the bulk discount configured to...      Jos Medinger   \n",
       "4222  Their are 3 ways to get this done.\\n\\n\\nExport...  Waqas Sarwar MVP   \n",
       "5346  We do not do anything special for the proposed...           waffles   \n",
       "227   There are third party modules for that.\\n\\nTak...            Jeroen   \n",
       "3830  Something's wrong--perhaps a missing \\item\\n\\n...    David Carlisle   \n",
       "\n",
       "                                       answer_user_page  \\\n",
       "2313  https://expressionengine.stackexchange.com/use...   \n",
       "4222   https://sharepoint.stackexchange.com/users/21563   \n",
       "5346         https://meta.stackexchange.com/users/17174   \n",
       "227        https://magento.stackexchange.com/users/3156   \n",
       "3830           https://tex.stackexchange.com/users/1090   \n",
       "\n",
       "                                                    url    category  ...  \\\n",
       "2313  http://expressionengine.stackexchange.com/ques...  TECHNOLOGY  ...   \n",
       "4222  http://sharepoint.stackexchange.com/questions/...  TECHNOLOGY  ...   \n",
       "5346  http://meta.stackexchange.com/questions/109726...  TECHNOLOGY  ...   \n",
       "227   http://magento.stackexchange.com/questions/597...  TECHNOLOGY  ...   \n",
       "3830  http://tex.stackexchange.com/questions/103200/...  TECHNOLOGY  ...   \n",
       "\n",
       "     question_well_written  answer_helpful  answer_level_of_information  \\\n",
       "2313              0.777778        0.888889                     0.666667   \n",
       "4222              1.000000        1.000000                     1.000000   \n",
       "5346              0.333333        1.000000                     0.666667   \n",
       "227               0.777778        0.777778                     0.444444   \n",
       "3830              0.333333        1.000000                     0.666667   \n",
       "\n",
       "      answer_plausible  answer_relevance  answer_satisfaction  \\\n",
       "2313               1.0          1.000000             0.800000   \n",
       "4222               1.0          1.000000             0.900000   \n",
       "5346               1.0          1.000000             1.000000   \n",
       "227                1.0          0.888889             0.666667   \n",
       "3830               1.0          1.000000             0.900000   \n",
       "\n",
       "      answer_type_instructions  answer_type_procedure  \\\n",
       "2313                  0.333333               1.000000   \n",
       "4222                  0.666667               0.333333   \n",
       "5346                  0.000000               0.000000   \n",
       "227                   1.000000               0.000000   \n",
       "3830                  0.500000               0.000000   \n",
       "\n",
       "      answer_type_reason_explanation  answer_well_written  \n",
       "2313                        0.666667             0.888889  \n",
       "4222                        0.333333             1.000000  \n",
       "5346                        1.000000             1.000000  \n",
       "227                         0.000000             0.888889  \n",
       "3830                        0.500000             0.833333  \n",
       "\n",
       "[5 rows x 41 columns]"
      ]
     },
     "execution_count": 29,
     "metadata": {},
     "output_type": "execute_result"
    }
   ],
   "source": [
    "df_train.head()"
   ]
  },
  {
   "cell_type": "code",
   "execution_count": 30,
   "metadata": {},
   "outputs": [],
   "source": [
    "def clean_txt(string):\n",
    "    #string = re.sub(r\"[^A-Za-z0-9(),!?\\'\\`]\", \" \", string)     \n",
    "    string = re.sub(r\"\\'s\", \" \\'s\", string) \n",
    "    string = re.sub(r\"\\'ve\", \" \\'ve\", string) \n",
    "    string = re.sub(r\"n\\'t\", \" n\\'t\", string) \n",
    "    string = re.sub(r\"\\'re\", \" \\'re\", string) \n",
    "    string = re.sub(r\"\\'d\", \" \\'d\", string) \n",
    "    string = re.sub(r\"\\'ll\", \" \\'ll\", string) \n",
    "    string = re.sub(r\",\", \" , \", string) \n",
    "    string = re.sub(r\"!\", \" ! \", string) \n",
    "    string = re.sub(r\"\\(\", \" \\( \", string) \n",
    "    string = re.sub(r\"\\)\", \" \\) \", string) \n",
    "    string = re.sub(r\"\\?\", \" \\? \", string) \n",
    "    #string = re.sub(r\"\\s{2,}\", \" \", string)\n",
    "    return string\n",
    "    #return string.strip().split()"
   ]
  },
  {
   "cell_type": "code",
   "execution_count": 31,
   "metadata": {},
   "outputs": [
    {
     "data": {
      "text/plain": [
       "2313    We've just had the bulk discount configured to...\n",
       "4222    Their are 3 ways to get this done.\\n\\n\\nExport...\n",
       "5346    We do not do anything special for the proposed...\n",
       "227     There are third party modules for that.\\n\\nTak...\n",
       "3830    Something's wrong--perhaps a missing \\item\\n\\n...\n",
       "4315    I'm not sure where the \"not interest\" part of ...\n",
       "1242    The error is most likely that you are using \\n...\n",
       "2691    I can't test it right now, but it should be po...\n",
       "2447    There's an old post (from 2012) here which mig...\n",
       "3049    Well this is still very broad but to try and h...\n",
       "Name: answer, dtype: object"
      ]
     },
     "execution_count": 31,
     "metadata": {},
     "output_type": "execute_result"
    }
   ],
   "source": [
    "df_train['answer'][:10]"
   ]
  },
  {
   "cell_type": "code",
   "execution_count": 32,
   "metadata": {},
   "outputs": [],
   "source": [
    "def clean_txt_q(text):\n",
    "    text = re.sub('&lt;div.*?&lt;/p&gt;', '', text) #only for questions\n",
    "    text = re.sub('http\\S+|https\\S+', '', text)    #only for questions\n",
    "    \n",
    "    text=re.sub(r\"\\s+\", \" \", text)\n",
    "    cleanr = re.compile('<.*?>')\n",
    "    text = re.sub(cleanr, ' ', text)        #Removing HTML tags\n",
    "    text = re.sub(\"'\", \"\",text)\n",
    "    text = re.sub(\",\", \"\",text)\n",
    "    text=re.sub(\"(\\\\W)+\",\" \",text)\n",
    "    return text"
   ]
  },
  {
   "cell_type": "code",
   "execution_count": 33,
   "metadata": {},
   "outputs": [],
   "source": [
    "def clean_txt_a(text):\n",
    "    text = re.sub('&lt;div.*?&lt;/p&gt;', '', text) #only for questions\n",
    "    text = re.sub('http\\S+|https\\S+', '', text)    #only for questions\n",
    "\n",
    "    text=re.sub(r\"\\s+\", \" \", text)    \n",
    "    cleanr = re.compile('<.*?>')\n",
    "    text = re.sub(cleanr, ' ', text)        #Removing HTML tags\n",
    "    text = re.sub(\"'\", \"\",text)\n",
    "    text = re.sub(\",\", \"\",text)\n",
    "    text=re.sub(\"(\\\\W)+\",\" \",text)\n",
    "    return text"
   ]
  },
  {
   "cell_type": "code",
   "execution_count": 34,
   "metadata": {},
   "outputs": [],
   "source": [
    "def clean_data_q(df, columns: list):\n",
    "    df1=df.copy()\n",
    "    for col in columns:\n",
    "        df1[col] = df1[col].apply(lambda x: clean_txt_q(x))\n",
    "    return df1"
   ]
  },
  {
   "cell_type": "code",
   "execution_count": 35,
   "metadata": {},
   "outputs": [],
   "source": [
    "def clean_data_a(df, columns: list):\n",
    "    df1=df.copy()\n",
    "    for col in columns:\n",
    "        df1[col] = df1[col].apply(lambda x: clean_txt_a(x))\n",
    "    return df1"
   ]
  },
  {
   "cell_type": "code",
   "execution_count": 36,
   "metadata": {},
   "outputs": [],
   "source": [
    "df_train_q = clean_data_q(df_train, input_categories)\n",
    "df_train_a = clean_data_a(df_train, input_categories)"
   ]
  },
  {
   "cell_type": "code",
   "execution_count": 37,
   "metadata": {},
   "outputs": [
    {
     "data": {
      "text/plain": [
       "((5471, 41), (5471, 41))"
      ]
     },
     "execution_count": 37,
     "metadata": {},
     "output_type": "execute_result"
    }
   ],
   "source": [
    "df_train_q.shape, df_train_a.shape, "
   ]
  },
  {
   "cell_type": "code",
   "execution_count": 38,
   "metadata": {},
   "outputs": [],
   "source": [
    "df_hold_q = clean_data_q(df_hold, input_categories)\n",
    "df_hold_a = clean_data_a(df_hold, input_categories)"
   ]
  },
  {
   "cell_type": "code",
   "execution_count": 39,
   "metadata": {
    "scrolled": true
   },
   "outputs": [
    {
     "data": {
      "text/plain": [
       "((608, 41), (608, 41))"
      ]
     },
     "execution_count": 39,
     "metadata": {},
     "output_type": "execute_result"
    }
   ],
   "source": [
    "df_hold_q.shape, df_hold_a.shape, "
   ]
  },
  {
   "cell_type": "markdown",
   "metadata": {},
   "source": [
    "# Some stats"
   ]
  },
  {
   "cell_type": "markdown",
   "metadata": {},
   "source": [
    "## Statistics for sentences"
   ]
  },
  {
   "cell_type": "code",
   "execution_count": 40,
   "metadata": {},
   "outputs": [],
   "source": [
    "def avg_word(sentence):\n",
    "    words = sentence.split()\n",
    "    if len(words) != 0:\n",
    "        return sum(len(word) for word in words)/len(words)"
   ]
  },
  {
   "cell_type": "code",
   "execution_count": 41,
   "metadata": {},
   "outputs": [],
   "source": [
    "def normalize(df):\n",
    "    result = df.copy()\n",
    "    for feature_name in df.columns:\n",
    "        max_value = df[feature_name].max()\n",
    "        min_value = df[feature_name].min()\n",
    "        result[feature_name] = (df[feature_name] - min_value) / (max_value - min_value)\n",
    "    return result"
   ]
  },
  {
   "cell_type": "markdown",
   "metadata": {},
   "source": [
    "## Mean tokens per sentence"
   ]
  },
  {
   "cell_type": "code",
   "execution_count": 42,
   "metadata": {},
   "outputs": [
    {
     "data": {
      "text/plain": [
       "9.045147139462621"
      ]
     },
     "execution_count": 42,
     "metadata": {},
     "output_type": "execute_result"
    }
   ],
   "source": [
    "df_train['question_title'].str.split().str.len().mean()"
   ]
  },
  {
   "cell_type": "code",
   "execution_count": 43,
   "metadata": {},
   "outputs": [
    {
     "data": {
      "text/plain": [
       "125.49972582708828"
      ]
     },
     "execution_count": 43,
     "metadata": {},
     "output_type": "execute_result"
    }
   ],
   "source": [
    "df_train['question_body'].str.split().str.len().mean()"
   ]
  },
  {
   "cell_type": "code",
   "execution_count": 44,
   "metadata": {},
   "outputs": [
    {
     "data": {
      "text/plain": [
       "133.63388777188814"
      ]
     },
     "execution_count": 44,
     "metadata": {},
     "output_type": "execute_result"
    }
   ],
   "source": [
    "df_train['answer'].str.split().str.len().mean()"
   ]
  },
  {
   "cell_type": "markdown",
   "metadata": {},
   "source": [
    "## Tokens per sentence distribution"
   ]
  },
  {
   "cell_type": "code",
   "execution_count": 45,
   "metadata": {},
   "outputs": [
    {
     "data": {
      "text/plain": [
       "<AxesSubplot:ylabel='Frequency'>"
      ]
     },
     "execution_count": 45,
     "metadata": {},
     "output_type": "execute_result"
    },
    {
     "data": {
      "image/png": "[encoded data removed]",
      "text/plain": [
       "<Figure size 432x288 with 1 Axes>"
      ]
     },
     "metadata": {
      "needs_background": "light"
     },
     "output_type": "display_data"
    }
   ],
   "source": [
    "#other['question_body_word_count'] = df_train.question_body.apply(lambda x: len(x.split()))\n",
    "df_train.question_title.apply(lambda x: len(x.split())).plot(kind='hist',bins=100)"
   ]
  },
  {
   "cell_type": "code",
   "execution_count": 46,
   "metadata": {},
   "outputs": [
    {
     "data": {
      "text/plain": [
       "<AxesSubplot:ylabel='Frequency'>"
      ]
     },
     "execution_count": 46,
     "metadata": {},
     "output_type": "execute_result"
    },
    {
     "data": {
      "image/png": "[encoded data removed]",
      "text/plain": [
       "<Figure size 432x288 with 1 Axes>"
      ]
     },
     "metadata": {
      "needs_background": "light"
     },
     "output_type": "display_data"
    }
   ],
   "source": [
    "df_train.question_body.apply(lambda x: len(x.split())).plot(kind='hist',bins=100)"
   ]
  },
  {
   "cell_type": "code",
   "execution_count": 47,
   "metadata": {},
   "outputs": [
    {
     "data": {
      "text/plain": [
       "4292    There has been a tug-of-war in the hot-questio...\n",
       "5714    I have a iMac 27\" late 2012, OS X 10.8.4 and l...\n",
       "149     Voldemort hid one of his Horcruxes inside Hogw...\n",
       "2024    I've created this view that is painfully slow ...\n",
       "5044    I worked JSON. I have two classes (private cla...\n",
       "                              ...                        \n",
       "5496    I have a 500GB Toshiba 2.5' HD, which I format...\n",
       "4488    I have been working on a new project. The proj...\n",
       "1495    On both wired and wireless connections, I can ...\n",
       "5463    I have a problem that is bugging me for a coup...\n",
       "2061    I have an idea of build centered around the Cr...\n",
       "Name: question_body, Length: 148, dtype: object"
      ]
     },
     "execution_count": 47,
     "metadata": {},
     "output_type": "execute_result"
    }
   ],
   "source": [
    "df_train[df_train['question_body'].apply(lambda x: len(x.split())>400)]['question_body'][:]"
   ]
  },
  {
   "cell_type": "markdown",
   "metadata": {},
   "source": [
    "There are 148 examples with question_body column longer than 400 tokens! An example follows:"
   ]
  },
  {
   "cell_type": "code",
   "execution_count": 48,
   "metadata": {},
   "outputs": [
    {
     "name": "stdout",
     "output_type": "stream",
     "text": [
      "Voldemort hid one of his Horcruxes inside Hogwarts. It seemed to be relying on security through obscurity as far as protecting it. But as we know, it ended up not being so secure because it wasn't so obscure - Harry Potter knew about the Room of Hidden Things.\n",
      "\n",
      "My question is, the way Rowling describes this hints at the fact that Riddle had an assumption that very few people would ever stumble upon that room. *WHY???\n",
      "\n",
      "\n",
      "\n",
      "First, let's show Harry's theory on what Voldemort was thinking, how and why:\n",
      "\n",
      "Here's Harry understanding Voldemort's thinking in HP7 once he figured out where the Diadem was (bold emphasis mine):\n",
      "\n",
      "\n",
      "  Tom Riddle, who confided in no one and operated alone, might have been arrogant\n",
      "  enough to assume that he, and only he, had penetrated the deepest mysteries of\n",
      "  Hogwarts Castle. Of course, Dumbledore and Flitwick, those model pupils, had never\n",
      "  set foot in that particular place, but he, Harry, had strayed off the beaten track in his\n",
      "  time at school – here at least was a secret area he and Voldemort knew, that\n",
      "  Dumbledore had never discovered –\n",
      "\n",
      "\n",
      "...and later on, with Harry explains the location to Ron/Hermione:\n",
      "\n",
      "\n",
      "  “He hid it exactly where I had my old Potions book, where everyone’s been hiding stuff for centuries. He thought he was the only one to find it. Come on.”\n",
      "  \n",
      "  “And he never realized anyone could get in?” said Ron, his voice echoing in the silence.\n",
      "  “He thought he was the only one,” said Harry.\n",
      "\n",
      "\n",
      ".\n",
      "\n",
      "\n",
      "\n",
      "Yet, from available evidence, that seems to be a completely wrong assumption, even at Voldemort's time. \n",
      "\n",
      "Let's examine that last quote again, with emphasis on other info available:\n",
      "\n",
      "\n",
      "  “He hid it exactly where I had my old Potions book, where everyone’s been hiding stuff for centuries.” ...\n",
      "  \n",
      "  ...\n",
      "  \n",
      "  “And he never realized anyone could get in?” said Ron, his voice echoing in the silence.\n",
      "  “He thought he was the only one,” said Harry. “Too bad for him I’ve had to hide stuff in\n",
      "  my time... this way,” he added. “I think it’s down here... “ \n",
      "  \n",
      "  They sped off up adjacent aisles; Harry could hear the others’ footsteps echoing through the towering piles of junk, of bottles, hats, crates, chairs, books, weapons, broomsticks, bats...\n",
      "\n",
      "\n",
      ".\n",
      "\n",
      "OK, so if there's a truckload (or train-load, by the description) of stuff in that room, isn't the only reasonable conclusion: \"the room is a fairly popular destination with plenty of people who've found their way there in the past, and therefore, likely, plenty who will in the future\"? \n",
      "\n",
      "Doesn't matter what your arrogance level is, the evidence seems to point to only one conclusion - it's quite fine as a place to temporarily bury your dirt so teachers won't tag you for your misdeeds, but this is NOT the place to hide something that you want permanently safe! \n",
      "\n",
      "So why did Voldemort make such a moronic mistake?\n",
      "\n"
     ]
    }
   ],
   "source": [
    "print(df_train[df_train['question_body'].apply(lambda x: len(x.split())>400)]['question_body'][149])"
   ]
  },
  {
   "cell_type": "code",
   "execution_count": 49,
   "metadata": {},
   "outputs": [
    {
     "data": {
      "text/plain": [
       "<AxesSubplot:ylabel='Frequency'>"
      ]
     },
     "execution_count": 49,
     "metadata": {},
     "output_type": "execute_result"
    },
    {
     "data": {
      "image/png": "[encoded data removed]",
      "text/plain": [
       "<Figure size 432x288 with 1 Axes>"
      ]
     },
     "metadata": {
      "needs_background": "light"
     },
     "output_type": "display_data"
    }
   ],
   "source": [
    "#other['answer_word_count'] = df_train.answer.apply(lambda x: len(x.split()))\n",
    "df_train.answer.apply(lambda x: len(x.split())).plot(kind='hist', bins=1000)"
   ]
  },
  {
   "cell_type": "markdown",
   "metadata": {},
   "source": [
    "## Characters per word per sentence distribution"
   ]
  },
  {
   "cell_type": "code",
   "execution_count": 50,
   "metadata": {
    "scrolled": true
   },
   "outputs": [
    {
     "data": {
      "text/plain": [
       "<AxesSubplot:ylabel='Frequency'>"
      ]
     },
     "execution_count": 50,
     "metadata": {},
     "output_type": "execute_result"
    },
    {
     "data": {
      "image/png": "[encoded data removed]",
      "text/plain": [
       "<Figure size 432x288 with 1 Axes>"
      ]
     },
     "metadata": {
      "needs_background": "light"
     },
     "output_type": "display_data"
    }
   ],
   "source": [
    "df_train.question_body.apply(lambda x: avg_word(x)).plot(kind='hist')"
   ]
  },
  {
   "cell_type": "code",
   "execution_count": 51,
   "metadata": {
    "scrolled": true
   },
   "outputs": [
    {
     "data": {
      "text/plain": [
       "<AxesSubplot:ylabel='Frequency'>"
      ]
     },
     "execution_count": 51,
     "metadata": {},
     "output_type": "execute_result"
    },
    {
     "data": {
      "image/png": "[encoded data removed]",
      "text/plain": [
       "<Figure size 432x288 with 1 Axes>"
      ]
     },
     "metadata": {
      "needs_background": "light"
     },
     "output_type": "display_data"
    }
   ],
   "source": [
    "df_train.answer.apply(lambda x: avg_word(x)).plot(kind='hist')"
   ]
  },
  {
   "cell_type": "markdown",
   "metadata": {},
   "source": [
    "# Split long texts"
   ]
  },
  {
   "cell_type": "code",
   "execution_count": 52,
   "metadata": {},
   "outputs": [],
   "source": [
    "def get_split(text1, chunks=300, overlap=50): \n",
    "    stride = chunks-overlap\n",
    "    l_total = []\n",
    "    l_parcial = []\n",
    "    n = len(text1.split())//stride +1\n",
    "    for w in range(n):\n",
    "        l_parcial = text1.split()[w*stride:w*stride + chunks]\n",
    "        l_total.append(' '.join(l_parcial))\n",
    "    return l_total"
   ]
  },
  {
   "cell_type": "code",
   "execution_count": 53,
   "metadata": {},
   "outputs": [
    {
     "data": {
      "text/html": [
       "<div>\n",
       "<style scoped>\n",
       "    .dataframe tbody tr th:only-of-type {\n",
       "        vertical-align: middle;\n",
       "    }\n",
       "\n",
       "    .dataframe tbody tr th {\n",
       "        vertical-align: top;\n",
       "    }\n",
       "\n",
       "    .dataframe thead th {\n",
       "        text-align: right;\n",
       "    }\n",
       "</style>\n",
       "<table border=\"1\" class=\"dataframe\">\n",
       "  <thead>\n",
       "    <tr style=\"text-align: right;\">\n",
       "      <th></th>\n",
       "      <th>qa_id</th>\n",
       "      <th>question_title</th>\n",
       "      <th>question_body</th>\n",
       "      <th>question_user_name</th>\n",
       "      <th>question_user_page</th>\n",
       "      <th>answer</th>\n",
       "      <th>answer_user_name</th>\n",
       "      <th>answer_user_page</th>\n",
       "      <th>url</th>\n",
       "      <th>category</th>\n",
       "      <th>...</th>\n",
       "      <th>answer_helpful</th>\n",
       "      <th>answer_level_of_information</th>\n",
       "      <th>answer_plausible</th>\n",
       "      <th>answer_relevance</th>\n",
       "      <th>answer_satisfaction</th>\n",
       "      <th>answer_type_instructions</th>\n",
       "      <th>answer_type_procedure</th>\n",
       "      <th>answer_type_reason_explanation</th>\n",
       "      <th>answer_well_written</th>\n",
       "      <th>text_split_q</th>\n",
       "    </tr>\n",
       "  </thead>\n",
       "  <tbody>\n",
       "    <tr>\n",
       "      <th>2313</th>\n",
       "      <td>3690</td>\n",
       "      <td>Quantity based discount for single product in ...</td>\n",
       "      <td>Im using latest build of Expresso Store 2 3 1 ...</td>\n",
       "      <td>neekster</td>\n",
       "      <td>https://expressionengine.stackexchange.com/use...</td>\n",
       "      <td>Weve just had the bulk discount configured to ...</td>\n",
       "      <td>Jos Medinger</td>\n",
       "      <td>https://expressionengine.stackexchange.com/use...</td>\n",
       "      <td>http://expressionengine.stackexchange.com/ques...</td>\n",
       "      <td>TECHNOLOGY</td>\n",
       "      <td>...</td>\n",
       "      <td>0.888889</td>\n",
       "      <td>0.666667</td>\n",
       "      <td>1.0</td>\n",
       "      <td>1.000000</td>\n",
       "      <td>0.800000</td>\n",
       "      <td>0.333333</td>\n",
       "      <td>1.000000</td>\n",
       "      <td>0.666667</td>\n",
       "      <td>0.888889</td>\n",
       "      <td>[Quantity based discount for single product in...</td>\n",
       "    </tr>\n",
       "    <tr>\n",
       "      <th>4222</th>\n",
       "      <td>6735</td>\n",
       "      <td>migrating a document library from sharepoint 2...</td>\n",
       "      <td>I have to migrate a document library from shar...</td>\n",
       "      <td>Rajesh Singh</td>\n",
       "      <td>https://sharepoint.stackexchange.com/users/29819</td>\n",
       "      <td>Their are 3 ways to get this done Export from ...</td>\n",
       "      <td>Waqas Sarwar MVP</td>\n",
       "      <td>https://sharepoint.stackexchange.com/users/21563</td>\n",
       "      <td>http://sharepoint.stackexchange.com/questions/...</td>\n",
       "      <td>TECHNOLOGY</td>\n",
       "      <td>...</td>\n",
       "      <td>1.000000</td>\n",
       "      <td>1.000000</td>\n",
       "      <td>1.0</td>\n",
       "      <td>1.000000</td>\n",
       "      <td>0.900000</td>\n",
       "      <td>0.666667</td>\n",
       "      <td>0.333333</td>\n",
       "      <td>0.333333</td>\n",
       "      <td>1.000000</td>\n",
       "      <td>[migrating a document library from sharepoint ...</td>\n",
       "    </tr>\n",
       "    <tr>\n",
       "      <th>5346</th>\n",
       "      <td>8488</td>\n",
       "      <td>Do Not Track header</td>\n",
       "      <td>Does Stack Overflow honor the Do not track hea...</td>\n",
       "      <td>user155454</td>\n",
       "      <td>https://meta.stackexchange.com/users/155454</td>\n",
       "      <td>We do not do anything special for the proposed...</td>\n",
       "      <td>waffles</td>\n",
       "      <td>https://meta.stackexchange.com/users/17174</td>\n",
       "      <td>http://meta.stackexchange.com/questions/109726...</td>\n",
       "      <td>TECHNOLOGY</td>\n",
       "      <td>...</td>\n",
       "      <td>1.000000</td>\n",
       "      <td>0.666667</td>\n",
       "      <td>1.0</td>\n",
       "      <td>1.000000</td>\n",
       "      <td>1.000000</td>\n",
       "      <td>0.000000</td>\n",
       "      <td>0.000000</td>\n",
       "      <td>1.000000</td>\n",
       "      <td>1.000000</td>\n",
       "      <td>[Do Not Track headerDoes Stack Overflow honor ...</td>\n",
       "    </tr>\n",
       "    <tr>\n",
       "      <th>227</th>\n",
       "      <td>364</td>\n",
       "      <td>Change Product Quantity Without Edit on Magento</td>\n",
       "      <td>I have a question here how to change product s...</td>\n",
       "      <td>Reggie Trichandra P</td>\n",
       "      <td>https://magento.stackexchange.com/users/23144</td>\n",
       "      <td>There are third party modules for that Take a ...</td>\n",
       "      <td>Jeroen</td>\n",
       "      <td>https://magento.stackexchange.com/users/3156</td>\n",
       "      <td>http://magento.stackexchange.com/questions/597...</td>\n",
       "      <td>TECHNOLOGY</td>\n",
       "      <td>...</td>\n",
       "      <td>0.777778</td>\n",
       "      <td>0.444444</td>\n",
       "      <td>1.0</td>\n",
       "      <td>0.888889</td>\n",
       "      <td>0.666667</td>\n",
       "      <td>1.000000</td>\n",
       "      <td>0.000000</td>\n",
       "      <td>0.000000</td>\n",
       "      <td>0.888889</td>\n",
       "      <td>[Change Product Quantity Without Edit on Magen...</td>\n",
       "    </tr>\n",
       "    <tr>\n",
       "      <th>3830</th>\n",
       "      <td>6094</td>\n",
       "      <td>Using item within newcommand</td>\n",
       "      <td>I tried defining a new command Quest as follow...</td>\n",
       "      <td>Grandfather</td>\n",
       "      <td>https://tex.stackexchange.com/users/27625</td>\n",
       "      <td>Somethings wrong perhaps a missing item Is a n...</td>\n",
       "      <td>David Carlisle</td>\n",
       "      <td>https://tex.stackexchange.com/users/1090</td>\n",
       "      <td>http://tex.stackexchange.com/questions/103200/...</td>\n",
       "      <td>TECHNOLOGY</td>\n",
       "      <td>...</td>\n",
       "      <td>1.000000</td>\n",
       "      <td>0.666667</td>\n",
       "      <td>1.0</td>\n",
       "      <td>1.000000</td>\n",
       "      <td>0.900000</td>\n",
       "      <td>0.500000</td>\n",
       "      <td>0.000000</td>\n",
       "      <td>0.500000</td>\n",
       "      <td>0.833333</td>\n",
       "      <td>[Using item within newcommandI tried defining ...</td>\n",
       "    </tr>\n",
       "  </tbody>\n",
       "</table>\n",
       "<p>5 rows × 42 columns</p>\n",
       "</div>"
      ],
      "text/plain": [
       "      qa_id                                     question_title  \\\n",
       "2313   3690  Quantity based discount for single product in ...   \n",
       "4222   6735  migrating a document library from sharepoint 2...   \n",
       "5346   8488                                Do Not Track header   \n",
       "227     364    Change Product Quantity Without Edit on Magento   \n",
       "3830   6094                       Using item within newcommand   \n",
       "\n",
       "                                          question_body   question_user_name  \\\n",
       "2313  Im using latest build of Expresso Store 2 3 1 ...             neekster   \n",
       "4222  I have to migrate a document library from shar...         Rajesh Singh   \n",
       "5346  Does Stack Overflow honor the Do not track hea...           user155454   \n",
       "227   I have a question here how to change product s...  Reggie Trichandra P   \n",
       "3830  I tried defining a new command Quest as follow...          Grandfather   \n",
       "\n",
       "                                     question_user_page  \\\n",
       "2313  https://expressionengine.stackexchange.com/use...   \n",
       "4222   https://sharepoint.stackexchange.com/users/29819   \n",
       "5346        https://meta.stackexchange.com/users/155454   \n",
       "227       https://magento.stackexchange.com/users/23144   \n",
       "3830          https://tex.stackexchange.com/users/27625   \n",
       "\n",
       "                                                 answer  answer_user_name  \\\n",
       "2313  Weve just had the bulk discount configured to ...      Jos Medinger   \n",
       "4222  Their are 3 ways to get this done Export from ...  Waqas Sarwar MVP   \n",
       "5346  We do not do anything special for the proposed...           waffles   \n",
       "227   There are third party modules for that Take a ...            Jeroen   \n",
       "3830  Somethings wrong perhaps a missing item Is a n...    David Carlisle   \n",
       "\n",
       "                                       answer_user_page  \\\n",
       "2313  https://expressionengine.stackexchange.com/use...   \n",
       "4222   https://sharepoint.stackexchange.com/users/21563   \n",
       "5346         https://meta.stackexchange.com/users/17174   \n",
       "227        https://magento.stackexchange.com/users/3156   \n",
       "3830           https://tex.stackexchange.com/users/1090   \n",
       "\n",
       "                                                    url    category  ...  \\\n",
       "2313  http://expressionengine.stackexchange.com/ques...  TECHNOLOGY  ...   \n",
       "4222  http://sharepoint.stackexchange.com/questions/...  TECHNOLOGY  ...   \n",
       "5346  http://meta.stackexchange.com/questions/109726...  TECHNOLOGY  ...   \n",
       "227   http://magento.stackexchange.com/questions/597...  TECHNOLOGY  ...   \n",
       "3830  http://tex.stackexchange.com/questions/103200/...  TECHNOLOGY  ...   \n",
       "\n",
       "     answer_helpful  answer_level_of_information  answer_plausible  \\\n",
       "2313       0.888889                     0.666667               1.0   \n",
       "4222       1.000000                     1.000000               1.0   \n",
       "5346       1.000000                     0.666667               1.0   \n",
       "227        0.777778                     0.444444               1.0   \n",
       "3830       1.000000                     0.666667               1.0   \n",
       "\n",
       "      answer_relevance  answer_satisfaction  answer_type_instructions  \\\n",
       "2313          1.000000             0.800000                  0.333333   \n",
       "4222          1.000000             0.900000                  0.666667   \n",
       "5346          1.000000             1.000000                  0.000000   \n",
       "227           0.888889             0.666667                  1.000000   \n",
       "3830          1.000000             0.900000                  0.500000   \n",
       "\n",
       "      answer_type_procedure  answer_type_reason_explanation  \\\n",
       "2313               1.000000                        0.666667   \n",
       "4222               0.333333                        0.333333   \n",
       "5346               0.000000                        1.000000   \n",
       "227                0.000000                        0.000000   \n",
       "3830               0.000000                        0.500000   \n",
       "\n",
       "      answer_well_written                                       text_split_q  \n",
       "2313             0.888889  [Quantity based discount for single product in...  \n",
       "4222             1.000000  [migrating a document library from sharepoint ...  \n",
       "5346             1.000000  [Do Not Track headerDoes Stack Overflow honor ...  \n",
       "227              0.888889  [Change Product Quantity Without Edit on Magen...  \n",
       "3830             0.833333  [Using item within newcommandI tried defining ...  \n",
       "\n",
       "[5 rows x 42 columns]"
      ]
     },
     "execution_count": 53,
     "metadata": {},
     "output_type": "execute_result"
    }
   ],
   "source": [
    "df_train_q['text_split_q'] = (df_train_q['question_title']+df_train_q['question_body']).apply(get_split)\n",
    "df_train_q.head()"
   ]
  },
  {
   "cell_type": "code",
   "execution_count": 54,
   "metadata": {},
   "outputs": [],
   "source": [
    "df_hold_q['text_split_q'] = (df_hold_q['question_title']+df_hold_q['question_body']).apply(get_split)"
   ]
  },
  {
   "cell_type": "code",
   "execution_count": 55,
   "metadata": {},
   "outputs": [
    {
     "data": {
      "text/plain": [
       "((5471, 42), (608, 42))"
      ]
     },
     "execution_count": 55,
     "metadata": {},
     "output_type": "execute_result"
    }
   ],
   "source": [
    "df_train_q.shape, df_hold_q.shape"
   ]
  },
  {
   "cell_type": "code",
   "execution_count": 56,
   "metadata": {},
   "outputs": [
    {
     "data": {
      "text/html": [
       "<div>\n",
       "<style scoped>\n",
       "    .dataframe tbody tr th:only-of-type {\n",
       "        vertical-align: middle;\n",
       "    }\n",
       "\n",
       "    .dataframe tbody tr th {\n",
       "        vertical-align: top;\n",
       "    }\n",
       "\n",
       "    .dataframe thead th {\n",
       "        text-align: right;\n",
       "    }\n",
       "</style>\n",
       "<table border=\"1\" class=\"dataframe\">\n",
       "  <thead>\n",
       "    <tr style=\"text-align: right;\">\n",
       "      <th></th>\n",
       "      <th>text_split_q</th>\n",
       "    </tr>\n",
       "  </thead>\n",
       "  <tbody>\n",
       "    <tr>\n",
       "      <th>2313</th>\n",
       "      <td>[Quantity based discount for single product in...</td>\n",
       "    </tr>\n",
       "    <tr>\n",
       "      <th>4222</th>\n",
       "      <td>[migrating a document library from sharepoint ...</td>\n",
       "    </tr>\n",
       "    <tr>\n",
       "      <th>5346</th>\n",
       "      <td>[Do Not Track headerDoes Stack Overflow honor ...</td>\n",
       "    </tr>\n",
       "    <tr>\n",
       "      <th>227</th>\n",
       "      <td>[Change Product Quantity Without Edit on Magen...</td>\n",
       "    </tr>\n",
       "    <tr>\n",
       "      <th>3830</th>\n",
       "      <td>[Using item within newcommandI tried defining ...</td>\n",
       "    </tr>\n",
       "  </tbody>\n",
       "</table>\n",
       "</div>"
      ],
      "text/plain": [
       "                                           text_split_q\n",
       "2313  [Quantity based discount for single product in...\n",
       "4222  [migrating a document library from sharepoint ...\n",
       "5346  [Do Not Track headerDoes Stack Overflow honor ...\n",
       "227   [Change Product Quantity Without Edit on Magen...\n",
       "3830  [Using item within newcommandI tried defining ..."
      ]
     },
     "execution_count": 56,
     "metadata": {},
     "output_type": "execute_result"
    }
   ],
   "source": [
    "df_train_q[['text_split_q']].head()"
   ]
  },
  {
   "cell_type": "code",
   "execution_count": 58,
   "metadata": {},
   "outputs": [],
   "source": [
    "pd.set_option('display.max_colwidth', 300)"
   ]
  },
  {
   "cell_type": "markdown",
   "metadata": {},
   "source": [
    "### Lets see an example of our text splitting:"
   ]
  },
  {
   "cell_type": "code",
   "execution_count": 59,
   "metadata": {},
   "outputs": [
    {
     "data": {
      "text/plain": [
       "['Not Proper Table Alignment in BootstrapIm trying to develop an application with help of Bootstrap in order to respect Desktop Tablet and Mobile Currently Im facing an issue with the table responsiveness Below I have provided the screenshot and the code kindly let me know where i do a mistake You can see from the second screenshot where the second getting aligned to responsiveness but the other not Screenshot 1 Perfect alignment on tablet Screenshot 2 Not perfect on mobile CODE lt DOCTYPE html gt lt html lang en gt lt head gt lt meta charset utf 8 gt lt meta content IE edge gt lt meta name viewport content width device width initial scale 1 gt lt meta name description content gt lt meta name author content gt lt link rel icon href favicon ico gt lt title gt Fixed Top Navbar Example for Bootstrap lt title gt lt Bootstrap core CSS gt lt link href js libs bootstrap css bootstrap min css rel stylesheet gt lt Custom styles for this template gt lt link href js libs bootstrap customcss navbar fixed top css rel stylesheet gt lt head gt lt body gt lt Fixed navbar gt lt div class navbar navbar default navbar fixed top role navigation gt lt div class container gt lt div class navbar header gt lt button type button class navbar toggle data toggle collapse data target navbar collapse gt lt span class sr only gt Toggle navigation lt span gt lt span class icon bar gt lt span gt lt span class icon bar gt lt span gt lt span class icon bar gt lt span gt lt button gt lt a class navbar brand href gt Project Title lt a gt lt div gt lt div class navbar collapse collapse gt lt',\n",
       " 'icon bar gt lt span gt lt span class icon bar gt lt span gt lt span class icon bar gt lt span gt lt button gt lt a class navbar brand href gt Project Title lt a gt lt div gt lt div class navbar collapse collapse gt lt ul class nav navbar nav gt lt li class active gt lt a href gt Home lt a gt lt li gt lt li class dropdown gt lt a href class dropdown toggle data toggle dropdown gt Mission lt span class caret gt lt span gt lt a gt lt ul class dropdown menu role menu gt lt li class divider gt lt li gt lt li class dropdown header gt Nav header lt li gt lt li gt lt a href gt Separated link lt a gt lt li gt lt li gt lt a href gt One more separated link lt a gt lt li gt lt ul gt lt li gt lt li class dropdown gt lt a href class dropdown toggle data toggle dropdown gt Request lt span class caret gt lt span gt lt a gt lt ul class dropdown menu role menu gt lt li class divider gt lt li gt lt li class dropdown header gt Nav header lt li gt lt li gt lt a href gt Separated link lt a gt lt li gt lt li gt lt a href gt One more separated link lt a gt lt li gt lt ul gt lt li gt lt ul gt lt ul class nav navbar nav navbar right gt lt li gt lt a href navbar gt Default lt a gt lt li gt lt li gt lt a href navbar static top gt Static top lt a gt lt li',\n",
       " 'lt ul gt lt li gt lt ul gt lt ul class nav navbar nav navbar right gt lt li gt lt a href navbar gt Default lt a gt lt li gt lt li gt lt a href navbar static top gt Static top lt a gt lt li gt lt li class active gt lt a href gt Fixed top lt a gt lt li gt lt ul gt lt div gt lt nav collapse gt lt div gt lt div gt lt div class container gt lt Main component for a primary marketing message or call to action gt lt div class jumbotron gt lt h1 gt Project Title lt h1 gt lt p gt lt p gt lt p gt lt p gt lt p gt lt a class btn btn lg btn primary href components navbar role button gt View navbar docs amp raquo lt a gt lt p gt lt div gt lt div class row gt lt div class col md 12 gt lt div class panel panel warning gt lt div class panel heading gt lt h3 class panel title gt Panel title lt h3 gt lt div gt lt div class panel body gt lt div class col md 12 gt lt table class table table bordered table condensed files border 1 gt lt thead gt lt tr gt lt th gt Emp Id lt th gt lt th gt Emp Name lt th gt lt th gt Start Date lt th gt lt th gt End Date lt th gt lt th gt Days lt th gt lt th gt Status lt th gt lt th gt Status lt th gt lt tr gt lt thead gt lt tbody gt lt tr gt lt td gt 123456 lt td gt',\n",
       " 'th gt lt th gt End Date lt th gt lt th gt Days lt th gt lt th gt Status lt th gt lt th gt Status lt th gt lt tr gt lt thead gt lt tbody gt lt tr gt lt td gt 123456 lt td gt lt td gt Employee First amp Last Name lt td gt lt td gt 04 DEC 14 lt td gt lt td gt 30 JAN 15 lt td gt lt td gt 35 lt td gt lt td gt lt button type button class btn btn success gt lt i class glyphicon glyphicon ok sign gt lt i gt lt span gt Validated lt span gt lt button gt lt td gt lt td gt lt button type button class btn btn warning gt lt i class glyphicon glyphicon question sign gt lt i gt lt span gt Pending lt span gt lt button gt lt td gt lt tr gt lt tbody gt lt table gt lt div gt lt div gt lt div gt lt div gt lt div gt lt div gt lt container gt lt Bootstrap core JavaScript gt lt Placed at the end of the document so the pages load faster gt lt script src js libs jQuery js jquery 2 0 3 js gt lt script gt lt script src js libs bootstrap js bootstrap min js gt lt script gt lt body gt lt html gt']"
      ]
     },
     "execution_count": 59,
     "metadata": {},
     "output_type": "execute_result"
    }
   ],
   "source": [
    "df_train_q.loc[3649]['text_split_q']"
   ]
  },
  {
   "cell_type": "markdown",
   "metadata": {},
   "source": [
    "# Make the examples for LSTM"
   ]
  },
  {
   "cell_type": "code",
   "execution_count": 61,
   "metadata": {},
   "outputs": [],
   "source": [
    "def lstmize(df, col):\n",
    "    train = []\n",
    "    label = []\n",
    "    index =[]\n",
    "    for idx,row in df.iterrows():\n",
    "        for l in row[col]:\n",
    "            train.append(l)\n",
    "            label.append(row[output_categories])\n",
    "            index.append(idx)\n",
    "    #print(len(train),len(label),len(index))\n",
    "    print('Number of examples after splitting in segments for LSTM use:', len(train))\n",
    "    df_lstm = pd.DataFrame(label) \n",
    "    df_lstm['index']=index\n",
    "    df_lstm['question_body']=train\n",
    "    header_list=['question_title', 'answer', 'category']\n",
    "    for i in header_list:\n",
    "        df_lstm[i]=' '\n",
    "    return df_lstm"
   ]
  },
  {
   "cell_type": "code",
   "execution_count": 62,
   "metadata": {},
   "outputs": [
    {
     "name": "stdout",
     "output_type": "stream",
     "text": [
      "Number of examples after splitting in segments for LSTM use: 6364\n"
     ]
    }
   ],
   "source": [
    "df_train_q_lstm = lstmize(df_train_q,'text_split_q')"
   ]
  },
  {
   "cell_type": "code",
   "execution_count": 63,
   "metadata": {},
   "outputs": [
    {
     "data": {
      "text/html": [
       "<div>\n",
       "<style scoped>\n",
       "    .dataframe tbody tr th:only-of-type {\n",
       "        vertical-align: middle;\n",
       "    }\n",
       "\n",
       "    .dataframe tbody tr th {\n",
       "        vertical-align: top;\n",
       "    }\n",
       "\n",
       "    .dataframe thead th {\n",
       "        text-align: right;\n",
       "    }\n",
       "</style>\n",
       "<table border=\"1\" class=\"dataframe\">\n",
       "  <thead>\n",
       "    <tr style=\"text-align: right;\">\n",
       "      <th></th>\n",
       "      <th>question_asker_intent_understanding</th>\n",
       "      <th>question_body_critical</th>\n",
       "      <th>question_conversational</th>\n",
       "      <th>question_expect_short_answer</th>\n",
       "      <th>question_fact_seeking</th>\n",
       "      <th>question_has_commonly_accepted_answer</th>\n",
       "      <th>question_interestingness_others</th>\n",
       "      <th>question_interestingness_self</th>\n",
       "      <th>question_multi_intent</th>\n",
       "      <th>question_not_really_a_question</th>\n",
       "      <th>...</th>\n",
       "      <th>answer_satisfaction</th>\n",
       "      <th>answer_type_instructions</th>\n",
       "      <th>answer_type_procedure</th>\n",
       "      <th>answer_type_reason_explanation</th>\n",
       "      <th>answer_well_written</th>\n",
       "      <th>index</th>\n",
       "      <th>question_body</th>\n",
       "      <th>question_title</th>\n",
       "      <th>answer</th>\n",
       "      <th>category</th>\n",
       "    </tr>\n",
       "  </thead>\n",
       "  <tbody>\n",
       "    <tr>\n",
       "      <th>2313</th>\n",
       "      <td>1.000000</td>\n",
       "      <td>0.555556</td>\n",
       "      <td>0.0</td>\n",
       "      <td>0.000000</td>\n",
       "      <td>1.000000</td>\n",
       "      <td>0.666667</td>\n",
       "      <td>0.777778</td>\n",
       "      <td>0.555556</td>\n",
       "      <td>1.000000</td>\n",
       "      <td>0.0</td>\n",
       "      <td>...</td>\n",
       "      <td>0.800000</td>\n",
       "      <td>0.333333</td>\n",
       "      <td>1.000000</td>\n",
       "      <td>0.666667</td>\n",
       "      <td>0.888889</td>\n",
       "      <td>2313</td>\n",
       "      <td>Quantity based discount for single product in Expresso StoreIm using latest build of Expresso Store 2 3 1 I need to apply quantity based discounts to products but the discount needs to apply to a single product For example I have 10 off discount for all products in store when you order 10 or mor...</td>\n",
       "      <td></td>\n",
       "      <td></td>\n",
       "      <td></td>\n",
       "    </tr>\n",
       "    <tr>\n",
       "      <th>4222</th>\n",
       "      <td>0.888889</td>\n",
       "      <td>0.888889</td>\n",
       "      <td>0.0</td>\n",
       "      <td>1.000000</td>\n",
       "      <td>0.666667</td>\n",
       "      <td>1.000000</td>\n",
       "      <td>0.666667</td>\n",
       "      <td>0.444444</td>\n",
       "      <td>0.000000</td>\n",
       "      <td>0.0</td>\n",
       "      <td>...</td>\n",
       "      <td>0.900000</td>\n",
       "      <td>0.666667</td>\n",
       "      <td>0.333333</td>\n",
       "      <td>0.333333</td>\n",
       "      <td>1.000000</td>\n",
       "      <td>4222</td>\n",
       "      <td>migrating a document library from sharepoint 2010 to sharepoint 2013 without using 3rd party toolsI have to migrate a document library from sharepoint 2010 to sharepoint 2013 without using any 3rd party tool any nice approach to achieve it</td>\n",
       "      <td></td>\n",
       "      <td></td>\n",
       "      <td></td>\n",
       "    </tr>\n",
       "    <tr>\n",
       "      <th>5346</th>\n",
       "      <td>0.777778</td>\n",
       "      <td>0.333333</td>\n",
       "      <td>0.0</td>\n",
       "      <td>1.000000</td>\n",
       "      <td>0.333333</td>\n",
       "      <td>1.000000</td>\n",
       "      <td>0.666667</td>\n",
       "      <td>0.333333</td>\n",
       "      <td>0.000000</td>\n",
       "      <td>0.0</td>\n",
       "      <td>...</td>\n",
       "      <td>1.000000</td>\n",
       "      <td>0.000000</td>\n",
       "      <td>0.000000</td>\n",
       "      <td>1.000000</td>\n",
       "      <td>1.000000</td>\n",
       "      <td>5346</td>\n",
       "      <td>Do Not Track headerDoes Stack Overflow honor the Do not track header or is support going to be added later it doesnt seem to honor the header at the moment</td>\n",
       "      <td></td>\n",
       "      <td></td>\n",
       "      <td></td>\n",
       "    </tr>\n",
       "    <tr>\n",
       "      <th>227</th>\n",
       "      <td>0.666667</td>\n",
       "      <td>0.888889</td>\n",
       "      <td>0.0</td>\n",
       "      <td>1.000000</td>\n",
       "      <td>1.000000</td>\n",
       "      <td>1.000000</td>\n",
       "      <td>0.666667</td>\n",
       "      <td>0.444444</td>\n",
       "      <td>0.000000</td>\n",
       "      <td>0.0</td>\n",
       "      <td>...</td>\n",
       "      <td>0.666667</td>\n",
       "      <td>1.000000</td>\n",
       "      <td>0.000000</td>\n",
       "      <td>0.000000</td>\n",
       "      <td>0.888889</td>\n",
       "      <td>227</td>\n",
       "      <td>Change Product Quantity Without Edit on MagentoI have a question here how to change product stock without click Edit on Magento Thanks Before</td>\n",
       "      <td></td>\n",
       "      <td></td>\n",
       "      <td></td>\n",
       "    </tr>\n",
       "    <tr>\n",
       "      <th>3830</th>\n",
       "      <td>0.777778</td>\n",
       "      <td>0.333333</td>\n",
       "      <td>0.0</td>\n",
       "      <td>1.000000</td>\n",
       "      <td>0.333333</td>\n",
       "      <td>1.000000</td>\n",
       "      <td>0.555556</td>\n",
       "      <td>0.333333</td>\n",
       "      <td>0.000000</td>\n",
       "      <td>0.0</td>\n",
       "      <td>...</td>\n",
       "      <td>0.900000</td>\n",
       "      <td>0.500000</td>\n",
       "      <td>0.000000</td>\n",
       "      <td>0.500000</td>\n",
       "      <td>0.833333</td>\n",
       "      <td>3830</td>\n",
       "      <td>Using item within newcommandI tried defining a new command Quest as follows but the error Lonely item perhaps a missing list environment appears def solnversion 0 set this to 1 to get solutions newcommand Quest 3 item ifnum solnversion 1 3 else 2 fi But if the item command is removed the error S...</td>\n",
       "      <td></td>\n",
       "      <td></td>\n",
       "      <td></td>\n",
       "    </tr>\n",
       "    <tr>\n",
       "      <th>...</th>\n",
       "      <td>...</td>\n",
       "      <td>...</td>\n",
       "      <td>...</td>\n",
       "      <td>...</td>\n",
       "      <td>...</td>\n",
       "      <td>...</td>\n",
       "      <td>...</td>\n",
       "      <td>...</td>\n",
       "      <td>...</td>\n",
       "      <td>...</td>\n",
       "      <td>...</td>\n",
       "      <td>...</td>\n",
       "      <td>...</td>\n",
       "      <td>...</td>\n",
       "      <td>...</td>\n",
       "      <td>...</td>\n",
       "      <td>...</td>\n",
       "      <td>...</td>\n",
       "      <td>...</td>\n",
       "      <td>...</td>\n",
       "      <td>...</td>\n",
       "    </tr>\n",
       "    <tr>\n",
       "      <th>5191</th>\n",
       "      <td>1.000000</td>\n",
       "      <td>0.333333</td>\n",
       "      <td>0.0</td>\n",
       "      <td>1.000000</td>\n",
       "      <td>1.000000</td>\n",
       "      <td>1.000000</td>\n",
       "      <td>0.333333</td>\n",
       "      <td>0.333333</td>\n",
       "      <td>1.000000</td>\n",
       "      <td>0.0</td>\n",
       "      <td>...</td>\n",
       "      <td>1.000000</td>\n",
       "      <td>1.000000</td>\n",
       "      <td>0.000000</td>\n",
       "      <td>1.000000</td>\n",
       "      <td>1.000000</td>\n",
       "      <td>5191</td>\n",
       "      <td>lxc create hangs and finally failsI was trying to place some juju charms on linux containers and the containers failed to start To debug the issue I sshed into the node where this happened and tried creating an LXC container manually like ubuntu slot13 sudo lxc create t ubuntu n pavan Checking c...</td>\n",
       "      <td></td>\n",
       "      <td></td>\n",
       "      <td></td>\n",
       "    </tr>\n",
       "    <tr>\n",
       "      <th>5226</th>\n",
       "      <td>1.000000</td>\n",
       "      <td>0.444444</td>\n",
       "      <td>0.0</td>\n",
       "      <td>0.666667</td>\n",
       "      <td>0.666667</td>\n",
       "      <td>1.000000</td>\n",
       "      <td>0.555556</td>\n",
       "      <td>0.666667</td>\n",
       "      <td>0.000000</td>\n",
       "      <td>0.0</td>\n",
       "      <td>...</td>\n",
       "      <td>0.933333</td>\n",
       "      <td>1.000000</td>\n",
       "      <td>0.000000</td>\n",
       "      <td>1.000000</td>\n",
       "      <td>0.888889</td>\n",
       "      <td>5226</td>\n",
       "      <td>Noise canceling headphones make strange sound when I touch my MacBook ProIve got headphones plugged into my desktop and a laptop nearby that I use for work as well Whenever I touch my MacBook Pro with the noise canceling on my headphones turned on it makes my headphones go nuts creating a lot of...</td>\n",
       "      <td></td>\n",
       "      <td></td>\n",
       "      <td></td>\n",
       "    </tr>\n",
       "    <tr>\n",
       "      <th>5390</th>\n",
       "      <td>1.000000</td>\n",
       "      <td>0.666667</td>\n",
       "      <td>0.0</td>\n",
       "      <td>1.000000</td>\n",
       "      <td>0.333333</td>\n",
       "      <td>1.000000</td>\n",
       "      <td>0.555556</td>\n",
       "      <td>0.444444</td>\n",
       "      <td>0.333333</td>\n",
       "      <td>0.0</td>\n",
       "      <td>...</td>\n",
       "      <td>0.900000</td>\n",
       "      <td>0.333333</td>\n",
       "      <td>0.000000</td>\n",
       "      <td>1.000000</td>\n",
       "      <td>0.888889</td>\n",
       "      <td>5390</td>\n",
       "      <td>Apple Push Notification all messages get sent but not all get deliveredI have a problem with sending Apple Push Notifications When I send a message to two devices only everything is working But When I send a message to all devices in the Database then not all Push Message get delivered but I get...</td>\n",
       "      <td></td>\n",
       "      <td></td>\n",
       "      <td></td>\n",
       "    </tr>\n",
       "    <tr>\n",
       "      <th>860</th>\n",
       "      <td>0.888889</td>\n",
       "      <td>0.333333</td>\n",
       "      <td>0.0</td>\n",
       "      <td>0.666667</td>\n",
       "      <td>0.333333</td>\n",
       "      <td>1.000000</td>\n",
       "      <td>0.444444</td>\n",
       "      <td>0.333333</td>\n",
       "      <td>0.000000</td>\n",
       "      <td>0.0</td>\n",
       "      <td>...</td>\n",
       "      <td>1.000000</td>\n",
       "      <td>1.000000</td>\n",
       "      <td>0.000000</td>\n",
       "      <td>0.333333</td>\n",
       "      <td>0.888889</td>\n",
       "      <td>860</td>\n",
       "      <td>Two sets came to an intersectionChallenge Print set intersections Specifications Your program should accept as its first argument a path to a filename Each line in the file is a test case Each test case contain two semicolon delimited sorted lists of numbers in ascending order whose numbers are ...</td>\n",
       "      <td></td>\n",
       "      <td></td>\n",
       "      <td></td>\n",
       "    </tr>\n",
       "    <tr>\n",
       "      <th>860</th>\n",
       "      <td>0.888889</td>\n",
       "      <td>0.333333</td>\n",
       "      <td>0.0</td>\n",
       "      <td>0.666667</td>\n",
       "      <td>0.333333</td>\n",
       "      <td>1.000000</td>\n",
       "      <td>0.444444</td>\n",
       "      <td>0.333333</td>\n",
       "      <td>0.000000</td>\n",
       "      <td>0.0</td>\n",
       "      <td>...</td>\n",
       "      <td>1.000000</td>\n",
       "      <td>1.000000</td>\n",
       "      <td>0.000000</td>\n",
       "      <td>0.333333</td>\n",
       "      <td>0.888889</td>\n",
       "      <td>860</td>\n",
       "      <td>3182635 Sample Output 22 14 78 79 35 I wanted to take advantage of the fact the lists were sorted but I fear my efforts only served to render my code convoluted and inefficient What do you think</td>\n",
       "      <td></td>\n",
       "      <td></td>\n",
       "      <td></td>\n",
       "    </tr>\n",
       "  </tbody>\n",
       "</table>\n",
       "<p>6364 rows × 35 columns</p>\n",
       "</div>"
      ],
      "text/plain": [
       "      question_asker_intent_understanding  question_body_critical  \\\n",
       "2313                             1.000000                0.555556   \n",
       "4222                             0.888889                0.888889   \n",
       "5346                             0.777778                0.333333   \n",
       "227                              0.666667                0.888889   \n",
       "3830                             0.777778                0.333333   \n",
       "...                                   ...                     ...   \n",
       "5191                             1.000000                0.333333   \n",
       "5226                             1.000000                0.444444   \n",
       "5390                             1.000000                0.666667   \n",
       "860                              0.888889                0.333333   \n",
       "860                              0.888889                0.333333   \n",
       "\n",
       "      question_conversational  question_expect_short_answer  \\\n",
       "2313                      0.0                      0.000000   \n",
       "4222                      0.0                      1.000000   \n",
       "5346                      0.0                      1.000000   \n",
       "227                       0.0                      1.000000   \n",
       "3830                      0.0                      1.000000   \n",
       "...                       ...                           ...   \n",
       "5191                      0.0                      1.000000   \n",
       "5226                      0.0                      0.666667   \n",
       "5390                      0.0                      1.000000   \n",
       "860                       0.0                      0.666667   \n",
       "860                       0.0                      0.666667   \n",
       "\n",
       "      question_fact_seeking  question_has_commonly_accepted_answer  \\\n",
       "2313               1.000000                               0.666667   \n",
       "4222               0.666667                               1.000000   \n",
       "5346               0.333333                               1.000000   \n",
       "227                1.000000                               1.000000   \n",
       "3830               0.333333                               1.000000   \n",
       "...                     ...                                    ...   \n",
       "5191               1.000000                               1.000000   \n",
       "5226               0.666667                               1.000000   \n",
       "5390               0.333333                               1.000000   \n",
       "860                0.333333                               1.000000   \n",
       "860                0.333333                               1.000000   \n",
       "\n",
       "      question_interestingness_others  question_interestingness_self  \\\n",
       "2313                         0.777778                       0.555556   \n",
       "4222                         0.666667                       0.444444   \n",
       "5346                         0.666667                       0.333333   \n",
       "227                          0.666667                       0.444444   \n",
       "3830                         0.555556                       0.333333   \n",
       "...                               ...                            ...   \n",
       "5191                         0.333333                       0.333333   \n",
       "5226                         0.555556                       0.666667   \n",
       "5390                         0.555556                       0.444444   \n",
       "860                          0.444444                       0.333333   \n",
       "860                          0.444444                       0.333333   \n",
       "\n",
       "      question_multi_intent  question_not_really_a_question  ...  \\\n",
       "2313               1.000000                             0.0  ...   \n",
       "4222               0.000000                             0.0  ...   \n",
       "5346               0.000000                             0.0  ...   \n",
       "227                0.000000                             0.0  ...   \n",
       "3830               0.000000                             0.0  ...   \n",
       "...                     ...                             ...  ...   \n",
       "5191               1.000000                             0.0  ...   \n",
       "5226               0.000000                             0.0  ...   \n",
       "5390               0.333333                             0.0  ...   \n",
       "860                0.000000                             0.0  ...   \n",
       "860                0.000000                             0.0  ...   \n",
       "\n",
       "      answer_satisfaction  answer_type_instructions  answer_type_procedure  \\\n",
       "2313             0.800000                  0.333333               1.000000   \n",
       "4222             0.900000                  0.666667               0.333333   \n",
       "5346             1.000000                  0.000000               0.000000   \n",
       "227              0.666667                  1.000000               0.000000   \n",
       "3830             0.900000                  0.500000               0.000000   \n",
       "...                   ...                       ...                    ...   \n",
       "5191             1.000000                  1.000000               0.000000   \n",
       "5226             0.933333                  1.000000               0.000000   \n",
       "5390             0.900000                  0.333333               0.000000   \n",
       "860              1.000000                  1.000000               0.000000   \n",
       "860              1.000000                  1.000000               0.000000   \n",
       "\n",
       "      answer_type_reason_explanation  answer_well_written  index  \\\n",
       "2313                        0.666667             0.888889   2313   \n",
       "4222                        0.333333             1.000000   4222   \n",
       "5346                        1.000000             1.000000   5346   \n",
       "227                         0.000000             0.888889    227   \n",
       "3830                        0.500000             0.833333   3830   \n",
       "...                              ...                  ...    ...   \n",
       "5191                        1.000000             1.000000   5191   \n",
       "5226                        1.000000             0.888889   5226   \n",
       "5390                        1.000000             0.888889   5390   \n",
       "860                         0.333333             0.888889    860   \n",
       "860                         0.333333             0.888889    860   \n",
       "\n",
       "                                                                                                                                                                                                                                                                                                    question_body  \\\n",
       "2313  Quantity based discount for single product in Expresso StoreIm using latest build of Expresso Store 2 3 1 I need to apply quantity based discounts to products but the discount needs to apply to a single product For example I have 10 off discount for all products in store when you order 10 or mor...   \n",
       "4222                                                              migrating a document library from sharepoint 2010 to sharepoint 2013 without using 3rd party toolsI have to migrate a document library from sharepoint 2010 to sharepoint 2013 without using any 3rd party tool any nice approach to achieve it   \n",
       "5346                                                                                                                                                  Do Not Track headerDoes Stack Overflow honor the Do not track header or is support going to be added later it doesnt seem to honor the header at the moment   \n",
       "227                                                                                                                                                                 Change Product Quantity Without Edit on MagentoI have a question here how to change product stock without click Edit on Magento Thanks Before   \n",
       "3830  Using item within newcommandI tried defining a new command Quest as follows but the error Lonely item perhaps a missing list environment appears def solnversion 0 set this to 1 to get solutions newcommand Quest 3 item ifnum solnversion 1 3 else 2 fi But if the item command is removed the error S...   \n",
       "...                                                                                                                                                                                                                                                                                                           ...   \n",
       "5191  lxc create hangs and finally failsI was trying to place some juju charms on linux containers and the containers failed to start To debug the issue I sshed into the node where this happened and tried creating an LXC container manually like ubuntu slot13 sudo lxc create t ubuntu n pavan Checking c...   \n",
       "5226  Noise canceling headphones make strange sound when I touch my MacBook ProIve got headphones plugged into my desktop and a laptop nearby that I use for work as well Whenever I touch my MacBook Pro with the noise canceling on my headphones turned on it makes my headphones go nuts creating a lot of...   \n",
       "5390  Apple Push Notification all messages get sent but not all get deliveredI have a problem with sending Apple Push Notifications When I send a message to two devices only everything is working But When I send a message to all devices in the Database then not all Push Message get delivered but I get...   \n",
       "860   Two sets came to an intersectionChallenge Print set intersections Specifications Your program should accept as its first argument a path to a filename Each line in the file is a test case Each test case contain two semicolon delimited sorted lists of numbers in ascending order whose numbers are ...   \n",
       "860                                                                                                            3182635 Sample Output 22 14 78 79 35 I wanted to take advantage of the fact the lists were sorted but I fear my efforts only served to render my code convoluted and inefficient What do you think   \n",
       "\n",
       "      question_title  answer  category  \n",
       "2313                                    \n",
       "4222                                    \n",
       "5346                                    \n",
       "227                                     \n",
       "3830                                    \n",
       "...              ...     ...       ...  \n",
       "5191                                    \n",
       "5226                                    \n",
       "5390                                    \n",
       "860                                     \n",
       "860                                     \n",
       "\n",
       "[6364 rows x 35 columns]"
      ]
     },
     "execution_count": 63,
     "metadata": {},
     "output_type": "execute_result"
    }
   ],
   "source": [
    "df_train_q_lstm"
   ]
  },
  {
   "cell_type": "code",
   "execution_count": 65,
   "metadata": {},
   "outputs": [
    {
     "name": "stdout",
     "output_type": "stream",
     "text": [
      "Number of examples after splitting in segments for LSTM use: 707\n"
     ]
    }
   ],
   "source": [
    "df_hold_q_lstm = lstmize(df_hold_q,'text_split_q')"
   ]
  },
  {
   "cell_type": "code",
   "execution_count": 66,
   "metadata": {},
   "outputs": [
    {
     "name": "stdout",
     "output_type": "stream",
     "text": [
      "(6364, 35) (707, 35)\n",
      "(6364, 30) (707, 30)\n"
     ]
    }
   ],
   "source": [
    "print(df_train_q_lstm.shape, df_hold_q_lstm.shape)\n",
    "print(df_train_q_lstm[output_categories].shape, df_hold_q_lstm[output_categories].shape)"
   ]
  },
  {
   "cell_type": "code",
   "execution_count": 67,
   "metadata": {},
   "outputs": [
    {
     "data": {
      "text/plain": [
       "['question_asker_intent_understanding',\n",
       " 'question_body_critical',\n",
       " 'question_conversational',\n",
       " 'question_expect_short_answer',\n",
       " 'question_fact_seeking',\n",
       " 'question_has_commonly_accepted_answer',\n",
       " 'question_interestingness_others',\n",
       " 'question_interestingness_self',\n",
       " 'question_multi_intent',\n",
       " 'question_not_really_a_question',\n",
       " 'question_opinion_seeking',\n",
       " 'question_type_choice',\n",
       " 'question_type_compare',\n",
       " 'question_type_consequence',\n",
       " 'question_type_definition',\n",
       " 'question_type_entity',\n",
       " 'question_type_instructions',\n",
       " 'question_type_procedure',\n",
       " 'question_type_reason_explanation',\n",
       " 'question_type_spelling',\n",
       " 'question_well_written',\n",
       " 'answer_helpful',\n",
       " 'answer_level_of_information',\n",
       " 'answer_plausible',\n",
       " 'answer_relevance',\n",
       " 'answer_satisfaction',\n",
       " 'answer_type_instructions',\n",
       " 'answer_type_procedure',\n",
       " 'answer_type_reason_explanation',\n",
       " 'answer_well_written',\n",
       " 'index',\n",
       " 'question_body',\n",
       " 'question_title',\n",
       " 'answer',\n",
       " 'category']"
      ]
     },
     "execution_count": 67,
     "metadata": {},
     "output_type": "execute_result"
    }
   ],
   "source": [
    "list(df_train_q_lstm.columns[:])"
   ]
  },
  {
   "cell_type": "code",
   "execution_count": 68,
   "metadata": {},
   "outputs": [],
   "source": [
    "input_categories=list(df_train_q_lstm.columns)\n",
    "outputs_q, _ = compute_output_arrays_qa(df_train_q_lstm[output_categories])"
   ]
  },
  {
   "cell_type": "code",
   "execution_count": 69,
   "metadata": {},
   "outputs": [
    {
     "data": {
      "text/plain": [
       "((6364, 35), (6364, 21))"
      ]
     },
     "execution_count": 69,
     "metadata": {},
     "output_type": "execute_result"
    }
   ],
   "source": [
    "df_train_q_lstm.shape, outputs_q.shape"
   ]
  },
  {
   "cell_type": "code",
   "execution_count": 70,
   "metadata": {},
   "outputs": [],
   "source": [
    "hold_outputs_q, _ = compute_output_arrays_qa(df_hold_q_lstm[output_categories])"
   ]
  },
  {
   "cell_type": "code",
   "execution_count": 71,
   "metadata": {},
   "outputs": [
    {
     "data": {
      "text/plain": [
       "['question_asker_intent_understanding',\n",
       " 'question_body_critical',\n",
       " 'question_conversational',\n",
       " 'question_expect_short_answer',\n",
       " 'question_fact_seeking',\n",
       " 'question_has_commonly_accepted_answer',\n",
       " 'question_interestingness_others',\n",
       " 'question_interestingness_self',\n",
       " 'question_multi_intent',\n",
       " 'question_not_really_a_question',\n",
       " 'question_opinion_seeking',\n",
       " 'question_type_choice',\n",
       " 'question_type_compare',\n",
       " 'question_type_consequence',\n",
       " 'question_type_definition',\n",
       " 'question_type_entity',\n",
       " 'question_type_instructions',\n",
       " 'question_type_procedure',\n",
       " 'question_type_reason_explanation',\n",
       " 'question_type_spelling',\n",
       " 'question_well_written',\n",
       " 'answer_helpful',\n",
       " 'answer_level_of_information',\n",
       " 'answer_plausible',\n",
       " 'answer_relevance',\n",
       " 'answer_satisfaction',\n",
       " 'answer_type_instructions',\n",
       " 'answer_type_procedure',\n",
       " 'answer_type_reason_explanation',\n",
       " 'answer_well_written']"
      ]
     },
     "execution_count": 71,
     "metadata": {},
     "output_type": "execute_result"
    }
   ],
   "source": [
    "output_categories"
   ]
  },
  {
   "cell_type": "code",
   "execution_count": 72,
   "metadata": {},
   "outputs": [
    {
     "data": {
      "text/plain": [
       "['question_asker_intent_understanding',\n",
       " 'question_body_critical',\n",
       " 'question_conversational',\n",
       " 'question_expect_short_answer',\n",
       " 'question_fact_seeking',\n",
       " 'question_has_commonly_accepted_answer',\n",
       " 'question_interestingness_others',\n",
       " 'question_interestingness_self',\n",
       " 'question_multi_intent',\n",
       " 'question_not_really_a_question',\n",
       " 'question_opinion_seeking',\n",
       " 'question_type_choice',\n",
       " 'question_type_compare',\n",
       " 'question_type_consequence',\n",
       " 'question_type_definition',\n",
       " 'question_type_entity',\n",
       " 'question_type_instructions',\n",
       " 'question_type_procedure',\n",
       " 'question_type_reason_explanation',\n",
       " 'question_type_spelling',\n",
       " 'question_well_written',\n",
       " 'answer_helpful',\n",
       " 'answer_level_of_information',\n",
       " 'answer_plausible',\n",
       " 'answer_relevance',\n",
       " 'answer_satisfaction',\n",
       " 'answer_type_instructions',\n",
       " 'answer_type_procedure',\n",
       " 'answer_type_reason_explanation',\n",
       " 'answer_well_written',\n",
       " 'index',\n",
       " 'question_body',\n",
       " 'question_title',\n",
       " 'answer',\n",
       " 'category']"
      ]
     },
     "execution_count": 72,
     "metadata": {},
     "output_type": "execute_result"
    }
   ],
   "source": [
    "input_categories"
   ]
  },
  {
   "cell_type": "markdown",
   "metadata": {},
   "source": [
    "# Transform input to BERT Representation"
   ]
  },
  {
   "cell_type": "code",
   "execution_count": 73,
   "metadata": {},
   "outputs": [
    {
     "data": {
      "application/vnd.jupyter.widget-view+json": {
       "model_id": "9c2ba888f8e04dcc96cc59dce94aa0cf",
       "version_major": 2,
       "version_minor": 0
      },
      "text/plain": [
       "HBox(children=(HTML(value=''), FloatProgress(value=1.0, bar_style='info', layout=Layout(width='20px'), max=1.0…"
      ]
     },
     "metadata": {},
     "output_type": "display_data"
    },
    {
     "name": "stdout",
     "output_type": "stream",
     "text": [
      "\n",
      "#>512: 89\n",
      "#>512 list length: 89\n",
      "#>512 list: [1242, 4434, 5714, 5714, 5714, 4320, 2024, 5044, 5044, 1620, 1310, 1310, 4734, 12, 2135, 2387, 366, 366, 366, 366, 1717, 2600, 4310, 289, 289, 2685, 5381, 5381, 5381, 5381, 1444, 1003, 3592, 2305, 2305, 4369, 4201, 4201, 5081, 5081, 5081, 5081, 5081, 727, 3785, 660, 5201, 5201, 2903, 3593, 3593, 3936, 4189, 1991, 1991, 1422, 2085, 2085, 2085, 4118, 2285, 4847, 3631, 464, 464, 464, 5712, 4582, 3016, 4231, 703, 703, 3928, 38, 3531, 3531, 3531, 3531, 3531, 364, 5252, 3775, 2143, 3974, 740, 2774, 2385, 5759, 3772]\n"
     ]
    }
   ],
   "source": [
    "inputs_q = compute_input_arays(df_train_q_lstm, input_categories, tokenizer, MAX_SEQUENCE_LENGTH, part='q')"
   ]
  },
  {
   "cell_type": "code",
   "execution_count": 74,
   "metadata": {},
   "outputs": [
    {
     "data": {
      "application/vnd.jupyter.widget-view+json": {
       "model_id": "012cee0210d44944bf863def966c98cb",
       "version_major": 2,
       "version_minor": 0
      },
      "text/plain": [
       "HBox(children=(HTML(value=''), FloatProgress(value=1.0, bar_style='info', layout=Layout(width='20px'), max=1.0…"
      ]
     },
     "metadata": {},
     "output_type": "display_data"
    },
    {
     "name": "stdout",
     "output_type": "stream",
     "text": [
      "\n",
      "#>512: 11\n",
      "#>512 list length: 11\n",
      "#>512 list: [1454, 1454, 1454, 2029, 2029, 1244, 1973, 1973, 1973, 3833, 3833]\n"
     ]
    }
   ],
   "source": [
    "test_inputs_q = compute_input_arays(df_hold_q_lstm[:], input_categories, tokenizer, MAX_SEQUENCE_LENGTH, part='q')"
   ]
  },
  {
   "cell_type": "markdown",
   "metadata": {},
   "source": [
    "### Lets see an example where there is splitting of one question"
   ]
  },
  {
   "cell_type": "code",
   "execution_count": 75,
   "metadata": {
    "scrolled": true
   },
   "outputs": [
    {
     "data": {
      "text/html": [
       "<div>\n",
       "<style scoped>\n",
       "    .dataframe tbody tr th:only-of-type {\n",
       "        vertical-align: middle;\n",
       "    }\n",
       "\n",
       "    .dataframe tbody tr th {\n",
       "        vertical-align: top;\n",
       "    }\n",
       "\n",
       "    .dataframe thead th {\n",
       "        text-align: right;\n",
       "    }\n",
       "</style>\n",
       "<table border=\"1\" class=\"dataframe\">\n",
       "  <thead>\n",
       "    <tr style=\"text-align: right;\">\n",
       "      <th></th>\n",
       "      <th>question_asker_intent_understanding</th>\n",
       "      <th>question_body_critical</th>\n",
       "      <th>question_conversational</th>\n",
       "      <th>question_expect_short_answer</th>\n",
       "      <th>question_fact_seeking</th>\n",
       "      <th>question_has_commonly_accepted_answer</th>\n",
       "      <th>question_interestingness_others</th>\n",
       "      <th>question_interestingness_self</th>\n",
       "      <th>question_multi_intent</th>\n",
       "      <th>question_not_really_a_question</th>\n",
       "      <th>...</th>\n",
       "      <th>answer_satisfaction</th>\n",
       "      <th>answer_type_instructions</th>\n",
       "      <th>answer_type_procedure</th>\n",
       "      <th>answer_type_reason_explanation</th>\n",
       "      <th>answer_well_written</th>\n",
       "      <th>index</th>\n",
       "      <th>question_body</th>\n",
       "      <th>question_title</th>\n",
       "      <th>answer</th>\n",
       "      <th>category</th>\n",
       "    </tr>\n",
       "  </thead>\n",
       "  <tbody>\n",
       "    <tr>\n",
       "      <th>1242</th>\n",
       "      <td>1.0</td>\n",
       "      <td>0.5</td>\n",
       "      <td>0.0</td>\n",
       "      <td>1.0</td>\n",
       "      <td>1.0</td>\n",
       "      <td>1.0</td>\n",
       "      <td>0.5</td>\n",
       "      <td>0.5</td>\n",
       "      <td>0.5</td>\n",
       "      <td>0.0</td>\n",
       "      <td>...</td>\n",
       "      <td>0.9</td>\n",
       "      <td>0.5</td>\n",
       "      <td>0.0</td>\n",
       "      <td>1.0</td>\n",
       "      <td>1.0</td>\n",
       "      <td>1242</td>\n",
       "      <td>Why are two eigen state kets with different eigenvalues orthogonal The operators J_1 2 J_2 2 J_ 1z and J_ 2z are mutually commuting operators Likewise J_1 2 J_2 2 J 2 and J_z are mutually commuting operators The two groups are incompatible and the simultaneous eigenkets along with their eigenval...</td>\n",
       "      <td></td>\n",
       "      <td></td>\n",
       "      <td></td>\n",
       "    </tr>\n",
       "    <tr>\n",
       "      <th>1242</th>\n",
       "      <td>1.0</td>\n",
       "      <td>0.5</td>\n",
       "      <td>0.0</td>\n",
       "      <td>1.0</td>\n",
       "      <td>1.0</td>\n",
       "      <td>1.0</td>\n",
       "      <td>0.5</td>\n",
       "      <td>0.5</td>\n",
       "      <td>0.5</td>\n",
       "      <td>0.0</td>\n",
       "      <td>...</td>\n",
       "      <td>0.9</td>\n",
       "      <td>0.5</td>\n",
       "      <td>0.0</td>\n",
       "      <td>1.0</td>\n",
       "      <td>1.0</td>\n",
       "      <td>1242</td>\n",
       "      <td>eigenvalues for this eigenket e g let j_1 0 and then let j_1 1 I get the following for j_1 0 I can have left 0j_2 0m_2 right gt for j_1 1 I can have any of the following since left m_1 right leq j_1 left 1j_2 1m_2 right gt left 1j_2 0m_2 right gt left 1j_2 1m_2 right gt If I take the inner produ...</td>\n",
       "      <td></td>\n",
       "      <td></td>\n",
       "      <td></td>\n",
       "    </tr>\n",
       "  </tbody>\n",
       "</table>\n",
       "<p>2 rows × 35 columns</p>\n",
       "</div>"
      ],
      "text/plain": [
       "      question_asker_intent_understanding  question_body_critical  \\\n",
       "1242                                  1.0                     0.5   \n",
       "1242                                  1.0                     0.5   \n",
       "\n",
       "      question_conversational  question_expect_short_answer  \\\n",
       "1242                      0.0                           1.0   \n",
       "1242                      0.0                           1.0   \n",
       "\n",
       "      question_fact_seeking  question_has_commonly_accepted_answer  \\\n",
       "1242                    1.0                                    1.0   \n",
       "1242                    1.0                                    1.0   \n",
       "\n",
       "      question_interestingness_others  question_interestingness_self  \\\n",
       "1242                              0.5                            0.5   \n",
       "1242                              0.5                            0.5   \n",
       "\n",
       "      question_multi_intent  question_not_really_a_question  ...  \\\n",
       "1242                    0.5                             0.0  ...   \n",
       "1242                    0.5                             0.0  ...   \n",
       "\n",
       "      answer_satisfaction  answer_type_instructions  answer_type_procedure  \\\n",
       "1242                  0.9                       0.5                    0.0   \n",
       "1242                  0.9                       0.5                    0.0   \n",
       "\n",
       "      answer_type_reason_explanation  answer_well_written  index  \\\n",
       "1242                             1.0                  1.0   1242   \n",
       "1242                             1.0                  1.0   1242   \n",
       "\n",
       "                                                                                                                                                                                                                                                                                                    question_body  \\\n",
       "1242  Why are two eigen state kets with different eigenvalues orthogonal The operators J_1 2 J_2 2 J_ 1z and J_ 2z are mutually commuting operators Likewise J_1 2 J_2 2 J 2 and J_z are mutually commuting operators The two groups are incompatible and the simultaneous eigenkets along with their eigenval...   \n",
       "1242  eigenvalues for this eigenket e g let j_1 0 and then let j_1 1 I get the following for j_1 0 I can have left 0j_2 0m_2 right gt for j_1 1 I can have any of the following since left m_1 right leq j_1 left 1j_2 1m_2 right gt left 1j_2 0m_2 right gt left 1j_2 1m_2 right gt If I take the inner produ...   \n",
       "\n",
       "      question_title  answer  category  \n",
       "1242                                    \n",
       "1242                                    \n",
       "\n",
       "[2 rows x 35 columns]"
      ]
     },
     "execution_count": 75,
     "metadata": {},
     "output_type": "execute_result"
    }
   ],
   "source": [
    "df_train_q_lstm.loc[1242]"
   ]
  },
  {
   "cell_type": "markdown",
   "metadata": {},
   "source": [
    "# Bert finetuning"
   ]
  },
  {
   "cell_type": "code",
   "execution_count": 76,
   "metadata": {
    "scrolled": true
   },
   "outputs": [],
   "source": [
    "def model_train(fold):\n",
    "            model_q = bert_model(units=21,dropout=0.3)\n",
    "            checkpoint_path = f'training_models_2/model_question_splitted_fold-{fold}.h5'\n",
    "\n",
    "            train_inputs = inputs_q\n",
    "            train_outputs = outputs_q\n",
    "\n",
    "            valid_inputs = test_inputs_q\n",
    "            valid_outputs = hold_outputs_q\n",
    "\n",
    "            sp = CustomCallback(valid_inputs=valid_inputs, \n",
    "                                valid_outputs=valid_outputs,\n",
    "                                batch_size=8,\n",
    "                                patience=1,\n",
    "                                fold=fold,\n",
    "                                model_name=checkpoint_path,\n",
    "                                pred = 'bert'\n",
    "                               )\n",
    "\n",
    "            early_stopping = EarlyStopping(monitor = 'loss', patience = 1)\n",
    "            history = model_q.fit(train_inputs, train_outputs,\n",
    "                        validation_data = (valid_inputs, valid_outputs),\n",
    "                        epochs=10, \n",
    "                        batch_size=8, \n",
    "                        verbose=1,\n",
    "                        callbacks=[sp]\n",
    "                       )"
   ]
  },
  {
   "cell_type": "code",
   "execution_count": 77,
   "metadata": {},
   "outputs": [
    {
     "name": "stdout",
     "output_type": "stream",
     "text": [
      "Fold: 0\n",
      "=====================\n",
      "Epoch 1/10\n",
      "796/796 [==============================] - ETA: 0s - loss: 0.3900\n",
      "Saving model.. training_models_2/model_question_splitted_fold-0.h5\n",
      "\n",
      "validation rho: 0.392\n",
      "796/796 [==============================] - 319s 401ms/step - loss: 0.3900 - val_loss: 0.3773\n",
      "Epoch 2/10\n",
      "796/796 [==============================] - ETA: 0s - loss: 0.3581\n",
      "Saving model.. training_models_2/model_question_splitted_fold-0.h5\n",
      "\n",
      "validation rho: 0.404\n",
      "796/796 [==============================] - 320s 402ms/step - loss: 0.3581 - val_loss: 0.3688\n",
      "Epoch 3/10\n",
      "796/796 [==============================] - ETA: 0s - loss: 0.3398Epoch 00002: early stopping Threshold\n",
      "\n",
      "validation rho: 0.403\n",
      "796/796 [==============================] - 317s 398ms/step - loss: 0.3398 - val_loss: 0.3728\n"
     ]
    }
   ],
   "source": [
    "#for fold in enumerate(gkf):\n",
    "#    if fold >-1:\n",
    "for fold in range(5):\n",
    "    if fold < 1:\n",
    "        print('Fold:',fold)\n",
    "        print('=====================')\n",
    "        p = multiprocessing.Process(target=model_train(fold=fold))\n",
    "        p.start()\n",
    "        p.join()"
   ]
  },
  {
   "cell_type": "code",
   "execution_count": 78,
   "metadata": {},
   "outputs": [],
   "source": [
    "checkpoint_path = 'training_models_2/model_question_splitted_fold-0.h5'\n",
    "model = bert_model(units=21,dropout=0.3)\n",
    "model.load_weights(checkpoint_path)"
   ]
  },
  {
   "cell_type": "code",
   "execution_count": 79,
   "metadata": {},
   "outputs": [
    {
     "name": "stdout",
     "output_type": "stream",
     "text": [
      " 2/23 [=>............................] - ETA: 5sWARNING:tensorflow:Callbacks method `on_predict_batch_end` is slow compared to the batch time (batch time: 0.0108s vs `on_predict_batch_end` time: 0.4845s). Check your callbacks.\n"
     ]
    },
    {
     "name": "stderr",
     "output_type": "stream",
     "text": [
      "WARNING:tensorflow:Callbacks method `on_predict_batch_end` is slow compared to the batch time (batch time: 0.0108s vs `on_predict_batch_end` time: 0.4845s). Check your callbacks.\n"
     ]
    },
    {
     "name": "stdout",
     "output_type": "stream",
     "text": [
      "23/23 [==============================] - 11s 477ms/step\n"
     ]
    }
   ],
   "source": [
    "preds = model.predict(test_inputs_q, verbose=1)"
   ]
  },
  {
   "cell_type": "code",
   "execution_count": 80,
   "metadata": {},
   "outputs": [
    {
     "data": {
      "text/plain": [
       "((707, 21), (707, 21))"
      ]
     },
     "execution_count": 80,
     "metadata": {},
     "output_type": "execute_result"
    }
   ],
   "source": [
    "hold_outputs_q.shape, preds.shape"
   ]
  },
  {
   "cell_type": "code",
   "execution_count": 81,
   "metadata": {},
   "outputs": [
    {
     "data": {
      "text/plain": [
       "0.4039815434240713"
      ]
     },
     "execution_count": 81,
     "metadata": {},
     "output_type": "execute_result"
    }
   ],
   "source": [
    "#Score for finetuned Bert\n",
    "compute_spearmanr(hold_outputs_q, preds)"
   ]
  },
  {
   "cell_type": "markdown",
   "metadata": {},
   "source": [
    "# Output BERT vectors to input in LSTM network"
   ]
  },
  {
   "cell_type": "code",
   "execution_count": 82,
   "metadata": {},
   "outputs": [],
   "source": [
    "def bert_inf(checkpoint_path,model,inputs):\n",
    "    model.load_weights(checkpoint_path)\n",
    "    bert = model.get_layer(index=3)\n",
    "    \n",
    "    input_word_ids = tf.keras.layers.Input(shape=(MAX_SEQUENCE_LENGTH,), dtype=tf.int32,\n",
    "     name=\"input_word_ids\")\n",
    "    input_mask = tf.keras.layers.Input(shape=(MAX_SEQUENCE_LENGTH,), dtype=tf.int32,\n",
    "     name=\"input_mask\")\n",
    "    segment_ids = tf.keras.layers.Input(shape=(MAX_SEQUENCE_LENGTH,), dtype=tf.int32,\n",
    "     name=\"segment_ids\")\n",
    "    \n",
    "    pooled_output, sequence_output = bert([input_word_ids, input_mask, segment_ids])\n",
    "    x = tf.keras.layers.GlobalAveragePooling1D()(sequence_output)\n",
    "\n",
    "    test_model = tf.keras.models.Model(inputs=[input_word_ids, input_mask, segment_ids], outputs=[pooled_output, x])\n",
    "    pooled_output, all_embs = test_model.predict(inputs, verbose=1)\n",
    "    return pooled_output, all_embs"
   ]
  },
  {
   "cell_type": "code",
   "execution_count": 83,
   "metadata": {},
   "outputs": [],
   "source": [
    "checkpoint_path = '/home/archiver/code/google-quest/training_models_2/model_question_splitted_fold-0.h5'\n",
    "#checkpoint_path = '/home/archiver/code/google-quest/training_models_2/model_question_pooled_fold-0_test.h5'\n",
    "#checkpoint_path = '/home/archiver/code/google-quest/training_models_2/model_question_lstm_splitted_fold-0_test.h5' #405"
   ]
  },
  {
   "cell_type": "code",
   "execution_count": 84,
   "metadata": {},
   "outputs": [],
   "source": [
    "model_q = bert_model(units=21,dropout=0.3)"
   ]
  },
  {
   "cell_type": "code",
   "execution_count": 85,
   "metadata": {},
   "outputs": [
    {
     "name": "stdout",
     "output_type": "stream",
     "text": [
      "  2/199 [..............................] - ETA: 50sWARNING:tensorflow:Callbacks method `on_predict_batch_end` is slow compared to the batch time (batch time: 0.0205s vs `on_predict_batch_end` time: 0.4735s). Check your callbacks.\n"
     ]
    },
    {
     "name": "stderr",
     "output_type": "stream",
     "text": [
      "WARNING:tensorflow:Callbacks method `on_predict_batch_end` is slow compared to the batch time (batch time: 0.0205s vs `on_predict_batch_end` time: 0.4735s). Check your callbacks.\n"
     ]
    },
    {
     "name": "stdout",
     "output_type": "stream",
     "text": [
      "199/199 [==============================] - 99s 499ms/step\n"
     ]
    }
   ],
   "source": [
    "train_inputs_q_pooled_output, train_inputs_q_embs = bert_inf(checkpoint_path, model_q, inputs_q)"
   ]
  },
  {
   "cell_type": "code",
   "execution_count": 86,
   "metadata": {},
   "outputs": [
    {
     "name": "stdout",
     "output_type": "stream",
     "text": [
      " 2/23 [=>............................] - ETA: 5sWARNING:tensorflow:Callbacks method `on_predict_batch_end` is slow compared to the batch time (batch time: 0.0100s vs `on_predict_batch_end` time: 0.4923s). Check your callbacks.\n"
     ]
    },
    {
     "name": "stderr",
     "output_type": "stream",
     "text": [
      "WARNING:tensorflow:Callbacks method `on_predict_batch_end` is slow compared to the batch time (batch time: 0.0100s vs `on_predict_batch_end` time: 0.4923s). Check your callbacks.\n"
     ]
    },
    {
     "name": "stdout",
     "output_type": "stream",
     "text": [
      "23/23 [==============================] - 11s 482ms/step\n"
     ]
    }
   ],
   "source": [
    "test_inputs_q_pooled_output, test_inputs_q_embs = bert_inf(checkpoint_path, model_q, test_inputs_q)"
   ]
  },
  {
   "cell_type": "markdown",
   "metadata": {},
   "source": [
    "# Combine BERT vectors for input to LSTM"
   ]
  },
  {
   "cell_type": "code",
   "execution_count": 104,
   "metadata": {},
   "outputs": [],
   "source": [
    "def lstm_vectors(df, embs):\n",
    "    train = {}\n",
    "    for l, emb in zip(df['index'], embs):\n",
    "        if l in train.keys():\n",
    "            train[l]  =np.vstack([train[l], emb])\n",
    "        else:\n",
    "            train[l] = [emb]\n",
    "\n",
    "    train_l_final = []\n",
    "    for k in train.keys():\n",
    "        train_l_final.append(train[k])\n",
    "    print('Number of examples for LSTM:', len(train_l_final))\n",
    "    return train_l_final"
   ]
  },
  {
   "cell_type": "code",
   "execution_count": 105,
   "metadata": {},
   "outputs": [
    {
     "name": "stdout",
     "output_type": "stream",
     "text": [
      "Number of examples for LSTM: 5471\n"
     ]
    }
   ],
   "source": [
    "train_embs_q = lstm_vectors(df_train_q_lstm, train_inputs_q_embs)"
   ]
  },
  {
   "cell_type": "code",
   "execution_count": 106,
   "metadata": {},
   "outputs": [
    {
     "name": "stdout",
     "output_type": "stream",
     "text": [
      "Number of examples for LSTM: 608\n"
     ]
    }
   ],
   "source": [
    "#hold_embs = lstm_vectors(df_hold_q_lstm,test_inputs_q_embs)\n",
    "hold_embs_q = lstm_vectors(df_hold_q_lstm, test_inputs_q_embs)"
   ]
  },
  {
   "cell_type": "code",
   "execution_count": 107,
   "metadata": {},
   "outputs": [],
   "source": [
    "df_train_embs = pd.DataFrame(df_train_q[output_categories[:21]]) \n",
    "df_train_embs['train_inputs_q_embs']=train_embs_q\n",
    "df_test_embs = pd.DataFrame(df_hold_q[output_categories[:21]]) \n",
    "df_test_embs['test_inputs_q_embs']=hold_embs_q"
   ]
  },
  {
   "cell_type": "code",
   "execution_count": 108,
   "metadata": {},
   "outputs": [
    {
     "data": {
      "text/plain": [
       "((5471, 22), (608, 22))"
      ]
     },
     "execution_count": 108,
     "metadata": {},
     "output_type": "execute_result"
    }
   ],
   "source": [
    "df_train_embs.shape, df_test_embs.shape"
   ]
  },
  {
   "cell_type": "code",
   "execution_count": 90,
   "metadata": {},
   "outputs": [],
   "source": [
    "with open('df_train_embs.p', 'wb') as file:\n",
    "    pickle.dump(df_train_embs, file)"
   ]
  },
  {
   "cell_type": "code",
   "execution_count": 91,
   "metadata": {},
   "outputs": [],
   "source": [
    "with open('df_test_embs.p', 'wb') as file:\n",
    "    pickle.dump(df_test_embs, file)"
   ]
  },
  {
   "cell_type": "markdown",
   "metadata": {},
   "source": [
    "# Input to LSTM model"
   ]
  },
  {
   "cell_type": "raw",
   "metadata": {},
   "source": [
    "df_train_embs = pickle.load(open('df_train_embs.p', 'rb'))\n",
    "df_test_embs = pickle.load(open('df_test_embs.p', 'rb'))"
   ]
  },
  {
   "cell_type": "code",
   "execution_count": 109,
   "metadata": {},
   "outputs": [
    {
     "name": "stdout",
     "output_type": "stream",
     "text": [
      "\n",
      "output categories:\n",
      "\t ['question_asker_intent_understanding', 'question_body_critical', 'question_conversational', 'question_expect_short_answer', 'question_fact_seeking', 'question_has_commonly_accepted_answer', 'question_interestingness_others', 'question_interestingness_self', 'question_multi_intent', 'question_not_really_a_question', 'question_opinion_seeking', 'question_type_choice', 'question_type_compare', 'question_type_consequence', 'question_type_definition', 'question_type_entity', 'question_type_instructions', 'question_type_procedure', 'question_type_reason_explanation', 'question_type_spelling', 'question_well_written', 'answer_helpful', 'answer_level_of_information', 'answer_plausible', 'answer_relevance', 'answer_satisfaction', 'answer_type_instructions', 'answer_type_procedure', 'answer_type_reason_explanation', 'answer_well_written']\n",
      "\n",
      "input categories:\n",
      "\t ['question_asker_intent_understanding', 'question_body_critical', 'question_conversational', 'question_expect_short_answer', 'question_fact_seeking', 'question_has_commonly_accepted_answer', 'question_interestingness_others', 'question_interestingness_self', 'question_multi_intent', 'question_not_really_a_question', 'question_opinion_seeking', 'question_type_choice', 'question_type_compare', 'question_type_consequence', 'question_type_definition', 'question_type_entity', 'question_type_instructions', 'question_type_procedure', 'question_type_reason_explanation', 'question_type_spelling', 'question_well_written', 'answer_helpful', 'answer_level_of_information', 'answer_plausible', 'answer_relevance', 'answer_satisfaction', 'answer_type_instructions', 'answer_type_procedure', 'answer_type_reason_explanation', 'answer_well_written', 'index', 'question_body', 'question_title', 'answer', 'category']\n"
     ]
    }
   ],
   "source": [
    "#output_categories = list(df_train.columns[32:])\n",
    "#input_categories = list(df_train.columns[[1,2,5,9]])\n",
    "print('\\noutput categories:\\n\\t', output_categories)\n",
    "print('\\ninput categories:\\n\\t', input_categories)"
   ]
  },
  {
   "cell_type": "code",
   "execution_count": 110,
   "metadata": {},
   "outputs": [
    {
     "data": {
      "text/plain": [
       "30"
      ]
     },
     "execution_count": 110,
     "metadata": {},
     "output_type": "execute_result"
    }
   ],
   "source": [
    "len(output_categories[:])"
   ]
  },
  {
   "cell_type": "code",
   "execution_count": 111,
   "metadata": {},
   "outputs": [],
   "source": [
    "y_train = np.asarray(df_train_embs[output_categories[:21]])\n",
    "y_hold = np.asarray(df_test_embs[output_categories[:21]])"
   ]
  },
  {
   "cell_type": "markdown",
   "metadata": {},
   "source": [
    "### Let see the Bert representations we will use for LSTM training:"
   ]
  },
  {
   "cell_type": "code",
   "execution_count": 112,
   "metadata": {},
   "outputs": [
    {
     "data": {
      "text/plain": [
       "2313    [[-0.034932952, 0.44695762, 0.77581245, 0.29089072, 0.15281887, -0.5850378, 0.16216466, 0.1684117, -0.1050126, -0.7053357, -0.18462317, 1.127679, -0.306458, 0.09784274, -0.06011157, 0.29870284, -0.013606873, 0.1433565, 0.5291259, 0.43127862, -0.17275682, 0.063294806, -0.2945242, -0.22320354, 0.3...\n",
       "4222    [[-0.6322535, 0.56032085, 0.22979555, 0.52377445, 0.099191666, -0.42993256, 0.45577374, 0.46464345, -0.175245, -0.9481431, -0.099607766, 0.76308215, -0.00029238322, -0.02159274, 0.11556181, -0.061362773, -0.27275375, -0.09542523, -0.043423485, 0.38298383, -0.20106596, 0.50942093, -0.06034632, -0...\n",
       "5346    [[-0.123411134, 0.1078517, 0.37222007, 0.23259215, 0.30240938, -1.1264807, -0.28861654, 0.8385713, -0.21219872, -0.69116, 0.10767801, 0.79568094, -0.46443734, -0.3136595, 0.20260598, 0.14765169, 0.37808427, -0.37363982, 0.5268846, -0.19593608, 0.2290421, 0.2569467, -0.5026467, -0.380578, 0.85429...\n",
       "227     [[-0.47735313, 0.7675851, 0.07360513, 0.22180405, 0.20875786, -0.32378602, 0.24142271, 0.28653178, -0.2127177, -0.8332596, 0.070215076, 0.88883215, 0.5297126, 0.23200406, 0.05853491, 0.31013438, -0.05443489, 0.008374028, 0.056233246, 0.24633655, -0.25377113, 0.59255236, 0.016713364, -0.7695379, ...\n",
       "3830    [[-0.5212068, 0.663762, 0.39006463, 0.37167162, 0.22436775, -0.7208631, 0.46406078, 0.22403343, 0.04922174, -0.8564976, -0.3247281, 1.0020831, 0.041013684, 0.34394193, -0.27628198, 0.089079246, -0.24193329, -0.21965685, 0.32084298, 0.6709126, -0.07921415, 0.1526321, -0.07980459, -0.4938206, 0.77...\n",
       "                                                                                                                                                           ...                                                                                                                                                     \n",
       "3772    [[-0.01890977, 0.2390021, 0.6708777, 0.13223913, 0.51209843, -0.9310714, -0.08745248, 0.15954116, -0.11042814, -0.22806211, 0.073764436, 0.9271041, -0.5972613, -0.13687223, 0.10653492, 0.044258114, 0.11941995, -0.2643574, 0.4063647, 0.018441712, 0.2290945, -0.062639765, -0.2523559, 0.44031647, 0...\n",
       "5191    [[-0.099140756, 0.67716414, 0.45333683, 0.09057502, 0.07489887, -0.41562772, 0.015246699, 0.31910095, -0.12174029, -0.3130324, -0.3116288, 0.80473393, -0.29809302, 0.4417788, -0.39863065, 0.37042382, 0.08230448, -0.2720514, 0.29006237, 0.42606995, 0.04849861, -0.17198443, -0.14967941, -0.2689065...\n",
       "5226    [[-0.42669132, 0.6360621, 0.73329186, 0.32045078, 0.2702196, -0.81105816, 0.4083486, 0.44051012, -0.13345048, -0.7713991, -0.23240869, 1.0209754, -0.45882213, -0.001986739, -0.00086776906, 0.008038465, 0.1641751, -0.25359082, 0.089947045, 0.25321275, 0.014763973, 0.14963806, -0.20026077, -0.2838...\n",
       "5390    [[-0.24397248, 0.36773762, 0.3859601, 0.2846082, 0.053512935, -0.81272584, 0.1866302, 0.88171726, -0.37618622, -0.3107147, -0.1562808, 0.8047044, -0.6923003, -0.015912518, -0.21645856, -0.1376994, 0.4646776, -0.4774317, 0.27775797, 0.2668771, 0.18507874, 0.1736664, -0.13505995, -0.23820312, 0.53...\n",
       "860     [[-0.058955576, 0.48869196, 0.6159473, 0.059061375, 0.16672206, -0.5102557, 0.053977266, 0.35358486, 0.16758859, -0.91709924, -0.14951113, 0.97090816, -0.16385551, -0.012756615, 0.058676127, 0.036215905, -0.08762939, -0.19902585, 0.35661566, 0.14739282, 0.40502536, 0.017093724, -0.46775976, 0.13...\n",
       "Name: train_inputs_q_embs, Length: 5471, dtype: object"
      ]
     },
     "execution_count": 112,
     "metadata": {},
     "output_type": "execute_result"
    }
   ],
   "source": [
    "df_train_embs['train_inputs_q_embs']"
   ]
  },
  {
   "cell_type": "code",
   "execution_count": 113,
   "metadata": {},
   "outputs": [],
   "source": [
    "df_emb_train = df_train_embs['train_inputs_q_embs']\n",
    "df_emb_hold = df_test_embs['test_inputs_q_embs']"
   ]
  },
  {
   "cell_type": "code",
   "execution_count": 154,
   "metadata": {},
   "outputs": [],
   "source": [
    "#Build LSTM model\n",
    "DIM = 768\n",
    "UNITS = 21\n",
    "\n",
    "def lstm():\n",
    "    tf.random.set_seed(4)\n",
    "    text_input = tf.keras.Input(shape=(None,DIM,), dtype='float32', name='vectors')\n",
    "    l_mask = tf.keras.layers.Masking(mask_value=-99.)(text_input)\n",
    "\n",
    "    encoded_text = tf.keras.layers.Bidirectional(tf.keras.layers.LSTM(200, return_sequences=False,))(l_mask)\n",
    "\n",
    "    out = tf.keras.layers.Dense(UNITS, activation='sigmoid')(encoded_text)\n",
    "    model = tf.keras.models.Model(text_input, out)\n",
    "    model.compile(loss='binary_crossentropy', optimizer=tf.keras.optimizers.Adam(learning_rate=3e-5))\n",
    "    return model"
   ]
  },
  {
   "cell_type": "code",
   "execution_count": 115,
   "metadata": {},
   "outputs": [
    {
     "data": {
      "image/png": "[encoded data removed]",
      "text/plain": [
       "<IPython.core.display.Image object>"
      ]
     },
     "execution_count": 115,
     "metadata": {},
     "output_type": "execute_result"
    }
   ],
   "source": [
    "plot_model(lstm(), to_file='model_lstm.png', show_shapes=True)\n",
    "Image('model_lstm.png')"
   ]
  },
  {
   "cell_type": "markdown",
   "metadata": {},
   "source": [
    "# Batch generators for Bi-LSTM"
   ]
  },
  {
   "cell_type": "markdown",
   "metadata": {},
   "source": [
    "Every example may contain different number of vectors, due to question splitting. So we use **batch generators** for training, validation and inference"
   ]
  },
  {
   "cell_type": "code",
   "execution_count": 138,
   "metadata": {},
   "outputs": [],
   "source": [
    "num_sequences = len(y_train)\n",
    "timesteps = 10\n",
    "batch_size = 3\n",
    "batches_per_epoch =  int(num_sequences/batch_size) #1823\n",
    "#assert batch_size * batches_per_epoch < num_sequences\n",
    "num_features= DIM\n",
    "def train_generator(df,y,):\n",
    "    x_list= df.to_list()\n",
    "    y_list =  y\n",
    "    # Generate batches\n",
    "    while True:\n",
    "        for b in range(batches_per_epoch):\n",
    "            longest_index = (b + 1) * batch_size - 1\n",
    "            #print(len(df['emb'].to_list()[:(b + 1) * batch_size][-batch_size:]))\n",
    "            #timesteps = len(df['emb'].to_list()[:(b + 1) * batch_size][-batch_size:])\n",
    "            x_train = np.full((batch_size, timesteps, num_features), -99.)\n",
    "            y_train = np.zeros((batch_size,  UNITS))\n",
    "            for i in range(batch_size):\n",
    "                li = b * batch_size + i\n",
    "                x_train[i, 0:len(x_list[li]), :] = x_list[li]\n",
    "                y_train[i] = y_list[li]\n",
    "            yield x_train, y_train"
   ]
  },
  {
   "cell_type": "code",
   "execution_count": 139,
   "metadata": {},
   "outputs": [],
   "source": [
    "num_sequences_val = len(y_hold)\n",
    "batch_size_val = 8\n",
    "batches_per_epoch_val = int(num_sequences_val/batch_size_val) #76\n",
    "assert batch_size_val * batches_per_epoch_val <= num_sequences_val\n",
    "num_features= DIM\n",
    "def val_generator(df,y):\n",
    "    x_list= df.to_list()\n",
    "    y_list =  y\n",
    "    # Generate batches\n",
    "    while True:\n",
    "        for b in range(batches_per_epoch_val):\n",
    "            longest_index = (b + 1) * batch_size_val - 1\n",
    "            #timesteps = len(max(df['emb'].to_list()[:(b + 1) * batch_size_val][-31:], key=len))\n",
    "            # print(len(df_train['emb'].to_list()[:b+batch_size][-7:]))\n",
    "            x_train = np.full((batch_size_val, timesteps, num_features), -99.)\n",
    "            y_train = np.zeros((batch_size_val, UNITS))\n",
    "            for i in range(batch_size_val):\n",
    "                li = b * batch_size_val + i\n",
    "                # print(\"li\", li)\n",
    "                # print(x_train[i, 0:len(x_list[li]), :].shape, len(x_list[li]))\n",
    "                x_train[i, 0:len(x_list[li]), :] = x_list[li]\n",
    "                y_train[i] = y_list[li]\n",
    "            yield x_train, y_train"
   ]
  },
  {
   "cell_type": "code",
   "execution_count": 140,
   "metadata": {},
   "outputs": [],
   "source": [
    "def test_generator(df):\n",
    "    x_list= df.to_list()\n",
    "    #y_list =  y\n",
    "    # Generate batches\n",
    "    while True:\n",
    "        for b in range(batches_per_epoch_val):\n",
    "            longest_index = (b + 1) * batch_size_val - 1\n",
    "            #timesteps = len(max(df['emb'].to_list()[:(b + 1) * batch_size_val][-31:], key=len))\n",
    "            # print(len(df_train['emb'].to_list()[:b+batch_size][-7:]))\n",
    "            x_train = np.full((batch_size_val, timesteps, num_features), -99.)\n",
    "            #y_train = np.zeros((batch_size_val, UNITS))\n",
    "            for i in range(batch_size_val):\n",
    "                li = b * batch_size_val + i\n",
    "                # print(\"li\", li)\n",
    "                # print(x_train[i, 0:len(x_list[li]), :].shape, len(x_list[li]))\n",
    "                x_train[i, 0:len(x_list[li]), :] = x_list[li]\n",
    "                #y_train[i] = y_list[li]\n",
    "            yield x_train"
   ]
  },
  {
   "cell_type": "code",
   "execution_count": 155,
   "metadata": {
    "scrolled": true
   },
   "outputs": [
    {
     "name": "stdout",
     "output_type": "stream",
     "text": [
      "Epoch 1/100\n",
      "1822/1823 [============================>.] - ETA: 0s - loss: 0.3792\n",
      "Saving model.. training_models_2/model_question_lstm_fold-0.h5\n",
      "\n",
      "validation rho: 0.403\n",
      "1823/1823 [==============================] - 9s 5ms/step - loss: 0.3792 - val_loss: 0.3649\n",
      "Epoch 2/100\n",
      "1809/1823 [============================>.] - ETA: 0s - loss: 0.3378\n",
      "Saving model.. training_models_2/model_question_lstm_fold-0.h5\n",
      "\n",
      "validation rho: 0.411\n",
      "1823/1823 [==============================] - 6s 3ms/step - loss: 0.3376 - val_loss: 0.3646\n",
      "Epoch 3/100\n",
      "1814/1823 [============================>.] - ETA: 0s - loss: 0.3334\n",
      "Saving model.. training_models_2/model_question_lstm_fold-0.h5\n",
      "\n",
      "validation rho: 0.413\n",
      "1823/1823 [==============================] - 6s 3ms/step - loss: 0.3332 - val_loss: 0.3651\n",
      "Epoch 4/100\n",
      "1809/1823 [============================>.] - ETA: 0s - loss: 0.3310\n",
      "Saving model.. training_models_2/model_question_lstm_fold-0.h5\n",
      "\n",
      "validation rho: 0.414\n",
      "1823/1823 [==============================] - 6s 3ms/step - loss: 0.3308 - val_loss: 0.3657\n",
      "Epoch 5/100\n",
      "1822/1823 [============================>.] - ETA: 0s - loss: 0.3291\n",
      "validation rho: 0.414\n",
      "\n",
      "Epoch 00005: ReduceLROnPlateau reducing learning rate to 5.9999998484272515e-06.\n",
      "1823/1823 [==============================] - 6s 3ms/step - loss: 0.3291 - val_loss: 0.3663\n",
      "Epoch 6/100\n",
      "1819/1823 [============================>.] - ETA: 0s - loss: 0.3273\n",
      "Saving model.. training_models_2/model_question_lstm_fold-0.h5\n",
      "\n",
      "validation rho: 0.414\n",
      "1823/1823 [==============================] - 6s 3ms/step - loss: 0.3272 - val_loss: 0.3659\n",
      "Epoch 7/100\n",
      "1823/1823 [==============================] - ETA: 0s - loss: 0.3269\n",
      "Saving model.. training_models_2/model_question_lstm_fold-0.h5\n",
      "\n",
      "validation rho: 0.414\n",
      "1823/1823 [==============================] - 6s 3ms/step - loss: 0.3269 - val_loss: 0.3660\n",
      "Epoch 8/100\n",
      "1819/1823 [============================>.] - ETA: 0s - loss: 0.3267\n",
      "validation rho: 0.414\n",
      "\n",
      "Epoch 00008: ReduceLROnPlateau reducing learning rate to 1.1999999514955563e-06.\n",
      "1823/1823 [==============================] - 6s 3ms/step - loss: 0.3266 - val_loss: 0.3662\n",
      "Epoch 9/100\n",
      "1811/1823 [============================>.] - ETA: 0s - loss: 0.3264\n",
      "validation rho: 0.414\n",
      "1823/1823 [==============================] - 6s 3ms/step - loss: 0.3262 - val_loss: 0.3661\n",
      "Epoch 10/100\n",
      "1823/1823 [==============================] - ETA: 0s - loss: 0.3261\n",
      "validation rho: 0.414\n",
      "1823/1823 [==============================] - 6s 3ms/step - loss: 0.3261 - val_loss: 0.3661\n",
      "Epoch 11/100\n",
      "1823/1823 [==============================] - ETA: 0s - loss: 0.3261\n",
      "validation rho: 0.414\n",
      "\n",
      "Epoch 00011: ReduceLROnPlateau reducing learning rate to 2.3999998575163774e-07.\n",
      "1823/1823 [==============================] - 6s 3ms/step - loss: 0.3261 - val_loss: 0.3662\n",
      "Epoch 12/100\n",
      "1815/1823 [============================>.] - ETA: 0s - loss: 0.3261Epoch 00011: early stopping Threshold\n",
      "\n",
      "validation rho: 0.414\n",
      "1823/1823 [==============================] - 6s 3ms/step - loss: 0.3260 - val_loss: 0.3662\n"
     ]
    },
    {
     "data": {
      "text/plain": [
       "<tensorflow.python.keras.callbacks.History at 0x7f6bf8524090>"
      ]
     },
     "execution_count": 155,
     "metadata": {},
     "output_type": "execute_result"
    }
   ],
   "source": [
    "fold=0\n",
    "model = lstm()\n",
    "#checkpoint_path = f'training_models_full/model_bert_lstm_pooled_fold-{fold}_test.h5'\n",
    "checkpoint_path = f'training_models_2/model_question_lstm_fold-0.h5'\n",
    "\n",
    "sp = CustomCallback(valid_inputs=df_emb_hold,\n",
    "                    valid_outputs=y_hold,\n",
    "                    batch_size=8,\n",
    "                    patience=6,\n",
    "                    fold=fold,\n",
    "                    model_name=checkpoint_path,\n",
    "                    pred='lstm'\n",
    "                    )\n",
    "\n",
    "cp = tf.keras.callbacks.ModelCheckpoint(filepath=checkpoint_path,\n",
    "                                        monitor='val_loss',\n",
    "                                        save_best_only=True,\n",
    "                                        save_weights_only=True,\n",
    "                                        verbose=1)\n",
    "\n",
    "reduce_lr = ReduceLROnPlateau(monitor='val_loss', factor=0.2, verbose=2, mode='auto',\n",
    "                              patience=3, min_lr=0.0000000)\n",
    "\n",
    "\n",
    "model.fit(train_generator(df_emb_train,y_train), steps_per_epoch=batches_per_epoch, epochs=100,\n",
    "                    validation_data=val_generator(df_emb_hold,y_hold), validation_steps=batches_per_epoch_val,\n",
    "                    callbacks=[sp,reduce_lr],\n",
    "                    shuffle=True,\n",
    "                    )"
   ]
  },
  {
   "cell_type": "code",
   "execution_count": 156,
   "metadata": {},
   "outputs": [],
   "source": [
    "checkpoint_path = 'training_models_2/model_question_lstm_fold-0.h5'\n",
    "model = lstm()\n",
    "model.load_weights(checkpoint_path)"
   ]
  },
  {
   "cell_type": "code",
   "execution_count": 157,
   "metadata": {},
   "outputs": [
    {
     "name": "stdout",
     "output_type": "stream",
     "text": [
      "76/76 [==============================] - 0s 1ms/step\n"
     ]
    }
   ],
   "source": [
    "preds = model.predict(test_generator(df_emb_hold), steps=76, callbacks=None, max_queue_size=10,\n",
    "                      workers=1, use_multiprocessing=False, verbose=1)"
   ]
  },
  {
   "cell_type": "code",
   "execution_count": 158,
   "metadata": {},
   "outputs": [
    {
     "data": {
      "text/plain": [
       "((608,), (608, 21))"
      ]
     },
     "execution_count": 158,
     "metadata": {},
     "output_type": "execute_result"
    }
   ],
   "source": [
    "df_emb_hold.shape, preds.shape"
   ]
  },
  {
   "cell_type": "code",
   "execution_count": 159,
   "metadata": {},
   "outputs": [
    {
     "data": {
      "text/plain": [
       "0.414068103972769"
      ]
     },
     "execution_count": 159,
     "metadata": {},
     "output_type": "execute_result"
    }
   ],
   "source": [
    "compute_spearmanr(y_hold, preds)"
   ]
  },
  {
   "cell_type": "markdown",
   "metadata": {},
   "source": [
    "# Final results"
   ]
  },
  {
   "cell_type": "markdown",
   "metadata": {},
   "source": [
    "So the score (spearman correlation) is:\n",
    "- Bert finetuned: 0.403\n",
    "- Bi-LSTM trained on Bert representations: **0.414**"
   ]
  }
 ],
 "metadata": {
  "kernelspec": {
   "display_name": "Python 3",
   "language": "python",
   "name": "python3"
  },
  "language_info": {
   "codemirror_mode": {
    "name": "ipython",
    "version": 3
   },
   "file_extension": ".py",
   "mimetype": "text/x-python",
   "name": "python",
   "nbconvert_exporter": "python",
   "pygments_lexer": "ipython3",
   "version": "3.7.9"
  }
 },
 "nbformat": 4,
 "nbformat_minor": 2
}
